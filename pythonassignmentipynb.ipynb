{
  "cells": [
    {
      "cell_type": "markdown",
      "metadata": {
        "id": "r3RIIGZCqMKB"
      },
      "source": [
        "1.\tWrite a Python program to calculate the area of a circle given its radius."
      ]
    },
    {
      "cell_type": "code",
      "execution_count": null,
      "metadata": {
        "colab": {
          "base_uri": "https://localhost:8080/"
        },
        "id": "61jKmTVByOhy",
        "outputId": "5b326aa6-184b-4ce5-e751-4239a279bbfd"
      },
      "outputs": [
        {
          "name": "stdout",
          "output_type": "stream",
          "text": [
            "enter radius56\n",
            "area of circle is : 9847.04\n"
          ]
        }
      ],
      "source": [
        "def area(r):\n",
        "  return 3.14*r*r\n",
        "r=int(input(\"enter radius\"))\n",
        "p=area(r)\n",
        "print(\"area of circle is :\",(p))"
      ]
    },
    {
      "cell_type": "markdown",
      "metadata": {
        "id": "f5J1MHWnq3Jk"
      },
      "source": [
        "2.\tCreate a program that takes user input for a temperature in Celsius and converts it to Fahrenheit"
      ]
    },
    {
      "cell_type": "code",
      "execution_count": null,
      "metadata": {
        "colab": {
          "base_uri": "https://localhost:8080/"
        },
        "id": "eRhrrgMjrHQv",
        "outputId": "7dedcdce-258a-4697-a0d3-c03a9b25fb15"
      },
      "outputs": [
        {
          "name": "stdout",
          "output_type": "stream",
          "text": [
            "enter temperature in celsius23\n",
            "73.4\n"
          ]
        }
      ],
      "source": [
        "def temp2fahr(t):\n",
        "  return t*9/5+32\n",
        "t=int(input(\"enter temperature in celsius\"))\n",
        "f=temp2fahr(t)\n",
        "print(f)"
      ]
    },
    {
      "cell_type": "markdown",
      "metadata": {
        "id": "89dy2SSXsQD2"
      },
      "source": [
        "3.\tImplement a calculator that performs basic arithmetic operations (addition, subtraction, multiplication, division) based on user input."
      ]
    },
    {
      "cell_type": "code",
      "execution_count": 17,
      "metadata": {
        "colab": {
          "base_uri": "https://localhost:8080/"
        },
        "id": "oDDOyeTysSaV",
        "outputId": "cf613096-8bb6-44f8-d376-cf7c7171afd9"
      },
      "outputs": [
        {
          "name": "stdout",
          "output_type": "stream",
          "text": [
            "enter first number3\n",
            "enter second number7\n",
            "enter 1 for addition\n",
            "enter 2 for subtraction\n",
            "enter 3 for multiplication\n",
            "enter 4 for division\n",
            "enter your choice4\n",
            "division is :\n",
            "0.42857142857142855\n"
          ]
        }
      ],
      "source": [
        "def calci(a,b):\n",
        "  print(\"enter 1 for addition\")\n",
        "  print(\"enter 2 for subtraction\")\n",
        "  print(\"enter 3 for multiplication\")\n",
        "  print(\"enter 4 for division\")\n",
        "  y=int(input(\"enter your choice\"))\n",
        "  if y==1:\n",
        "    print(\"addition is :\")\n",
        "    return a+b\n",
        "  elif y==2:\n",
        "    print(\"subtraction is :\")\n",
        "    return a-b\n",
        "  elif y==3:\n",
        "    print(\"multiplication is :\")\n",
        "    return a*b\n",
        "  elif y==4:\n",
        "    print(\"division is :\")\n",
        "    return a/b\n",
        "  else:\n",
        "    print(\"invalid choice\")\n",
        "\n",
        "a=int(input(\"enter first number\"))\n",
        "b=int(input(\"enter second number\"))\n",
        "c=calci(a,b)\n",
        "print(c)\n"
      ]
    },
    {
      "cell_type": "markdown",
      "metadata": {
        "id": "DUcxl1AkuMiL"
      },
      "source": [
        "4.\tWrite a program that checks if a number is even or odd.\n"
      ]
    },
    {
      "cell_type": "code",
      "execution_count": null,
      "metadata": {
        "colab": {
          "base_uri": "https://localhost:8080/"
        },
        "id": "inozrTyauRbc",
        "outputId": "4287fb90-a8dd-4f98-e181-8c22dc774812"
      },
      "outputs": [
        {
          "name": "stdout",
          "output_type": "stream",
          "text": [
            "enter a number5\n",
            "odd number\n"
          ]
        }
      ],
      "source": [
        "def even_odd(a):\n",
        "  if a%2==0:\n",
        "    print(\"even number\")\n",
        "  else:\n",
        "    print(\"odd number\")\n",
        "a=int(input(\"enter a number\"))\n",
        "even_odd(a)"
      ]
    },
    {
      "cell_type": "markdown",
      "metadata": {
        "id": "P2UoaaHJvH9U"
      },
      "source": [
        "5.\tDevelop a function that takes a string as input and returns the string reversed."
      ]
    },
    {
      "cell_type": "code",
      "execution_count": null,
      "metadata": {
        "colab": {
          "base_uri": "https://localhost:8080/"
        },
        "id": "VigOrTkcuhi0",
        "outputId": "1369afff-8155-4039-b8f6-1585af7c4e80"
      },
      "outputs": [
        {
          "name": "stdout",
          "output_type": "stream",
          "text": [
            "enter a string piyush\n",
            "hsuyip\n"
          ]
        }
      ],
      "source": [
        "def rev(a):\n",
        "  return a[::-1]\n",
        "a=input(\"enter a string \")\n",
        "b=rev(a)\n",
        "print(b)"
      ]
    },
    {
      "cell_type": "markdown",
      "metadata": {
        "id": "oc3CTj6ywACz"
      },
      "source": [
        "6.\tCreate a program that asks the user for their age and prints whether they are a minor, adult, or senior."
      ]
    },
    {
      "cell_type": "code",
      "execution_count": null,
      "metadata": {
        "colab": {
          "base_uri": "https://localhost:8080/"
        },
        "id": "8B6ZIMgKwFM8",
        "outputId": "b34bfd55-79aa-4830-ed95-6cb9d59cfa1b"
      },
      "outputs": [
        {
          "name": "stdout",
          "output_type": "stream",
          "text": [
            "enter your age56\n",
            "adult\n"
          ]
        }
      ],
      "source": [
        "\n",
        "def minor_adult_senior(a):\n",
        "  if a<18:\n",
        "    print(\"minor\")\n",
        "  elif a>18 and a<60:\n",
        "    print(\"adult\")\n",
        "  else :\n",
        "    print(\"senior\")\n",
        "a=int(input(\"enter your age\"))\n",
        "minor_adult_senior(a)"
      ]
    },
    {
      "cell_type": "markdown",
      "metadata": {
        "id": "LHcPS7bTxYIW"
      },
      "source": [
        "7.\tWrite a program that evaluates three numbers and prints the largest one."
      ]
    },
    {
      "cell_type": "code",
      "execution_count": null,
      "metadata": {
        "colab": {
          "base_uri": "https://localhost:8080/"
        },
        "id": "lerii1RpyT2r",
        "outputId": "a983270a-925a-49fc-ff12-21d2d00279c3"
      },
      "outputs": [
        {
          "name": "stdout",
          "output_type": "stream",
          "text": [
            "enter first number 23\n",
            "enter second number 56\n",
            "enter third number 100\n",
            "biggest no is : 100\n"
          ]
        }
      ],
      "source": [
        "def maximum(a,b,c):\n",
        "  if a>b and a>c:\n",
        "    return a\n",
        "  elif b>a and b>c :\n",
        "      return b\n",
        "  else:\n",
        "        return c\n",
        "a=int(input(\"enter first number \"))\n",
        "b=int(input(\"enter second number \"))\n",
        "c=int(input(\"enter third number \"))\n",
        "l=maximum(a,b,c)\n",
        "print(\"biggest no is :\",(l))"
      ]
    },
    {
      "cell_type": "markdown",
      "metadata": {
        "id": "BYnrb0k80A3U"
      },
      "source": [
        "8.\tImplement a program that gives feedback based on a user's score (A, B, C, D, F)."
      ]
    },
    {
      "cell_type": "code",
      "execution_count": null,
      "metadata": {
        "colab": {
          "base_uri": "https://localhost:8080/"
        },
        "id": "C1Tvj8CR0KgG",
        "outputId": "d956ab95-4abb-43e1-e775-f89f654f3b3b"
      },
      "outputs": [
        {
          "name": "stdout",
          "output_type": "stream",
          "text": [
            "enter your score 33\n",
            "D\n"
          ]
        }
      ],
      "source": [
        "def feedback(a):\n",
        "  if a>=90:\n",
        "    print(\"A\")\n",
        "  elif a>=70 and a<90:\n",
        "    print(\"B\")\n",
        "  elif a>=50 and a<70:\n",
        "    print(\"C\")\n",
        "  else:\n",
        "    print(\"D\")\n",
        "a = int(input(\"enter your score \"))\n",
        "feedback(a)"
      ]
    },
    {
      "cell_type": "markdown",
      "metadata": {
        "id": "pyMFj8nX1RBE"
      },
      "source": [
        "9.\tWrite a program to check if a year is a leap year."
      ]
    },
    {
      "cell_type": "code",
      "execution_count": null,
      "metadata": {
        "colab": {
          "base_uri": "https://localhost:8080/"
        },
        "id": "8vOfLYMm0fyz",
        "outputId": "8a1e3f6c-350a-4a35-d4f6-35ac71db3d0d"
      },
      "outputs": [
        {
          "name": "stdout",
          "output_type": "stream",
          "text": [
            "enter a year2024\n",
            "leap year\n"
          ]
        }
      ],
      "source": [
        "def leapyear(a):\n",
        "  if a%4==0:\n",
        "    print(\"leap year\")\n",
        "  else :\n",
        "    print(\"not a leap year\")\n",
        "a=int(input(\"enter a year\"))\n",
        "leapyear(a)"
      ]
    },
    {
      "cell_type": "markdown",
      "metadata": {
        "id": "nieNMx172Lx4"
      },
      "source": [
        "10.\tDevelop a simple login system that checks a username and password.\n"
      ]
    },
    {
      "cell_type": "code",
      "execution_count": null,
      "metadata": {
        "colab": {
          "base_uri": "https://localhost:8080/"
        },
        "id": "AqAEUTdY2PIj",
        "outputId": "f32abdad-0c64-4b04-8a75-ef5de05836cf"
      },
      "outputs": [
        {
          "name": "stdout",
          "output_type": "stream",
          "text": [
            "username :piyush\n",
            "password :8839\n",
            "login failed\n"
          ]
        }
      ],
      "source": [
        "def login():\n",
        "  users={\"user1\":\"8865\",\"user2\":\"9087\"}\n",
        "  username= input(\"username :\")\n",
        "  password=input(\"password :\")\n",
        "  if username in users and users[username]==password:\n",
        "    print(\"login successful\")\n",
        "  else:\n",
        "      print('login failed')\n",
        "login()\n",
        "\n"
      ]
    },
    {
      "cell_type": "markdown",
      "metadata": {
        "id": "C7WXU2uo4W-a"
      },
      "source": [
        "11.\tWrite a Python program that counts the number of vowels in a given string."
      ]
    },
    {
      "cell_type": "code",
      "execution_count": null,
      "metadata": {
        "colab": {
          "base_uri": "https://localhost:8080/"
        },
        "id": "ziTyPQpLQ6Xo",
        "outputId": "e86dacf0-5100-4fe5-d080-c3711a352256"
      },
      "outputs": [
        {
          "name": "stdout",
          "output_type": "stream",
          "text": [
            "enter a  string Significance\n",
            "no of vowels in the string : 5\n"
          ]
        }
      ],
      "source": [
        "def vowelcount(get_string):\n",
        "  vowels=\"aeiouAEIOU\"\n",
        "  vowel_count=0\n",
        "  for char in get_string:\n",
        "   if char in vowels:\n",
        "    vowel_count = vowel_count+1\n",
        "  return vowel_count\n",
        "string = input(\"enter a  string \")\n",
        "count = vowelcount(string)\n",
        "print(\"no of vowels in the string :\",(count))"
      ]
    },
    {
      "cell_type": "markdown",
      "metadata": {
        "id": "3-nL07xPSs5I"
      },
      "source": [
        "12.\tCreate a function that removes all whitespace from a user-inputted string."
      ]
    },
    {
      "cell_type": "code",
      "execution_count": null,
      "metadata": {
        "colab": {
          "base_uri": "https://localhost:8080/"
        },
        "id": "XZ84odMQTWpA",
        "outputId": "1ce92415-6adc-47ed-af31-496648313d79"
      },
      "outputs": [
        {
          "name": "stdout",
          "output_type": "stream",
          "text": [
            "enter a string :albert einstein\n",
            "string with whitespace removed : alberteinstein\n"
          ]
        }
      ],
      "source": [
        "def whitespace(a):\n",
        "  c=a.replace(\" \",\"\")\n",
        "  return c\n",
        "a=input(\"enter a string :\")\n",
        "b=whitespace(a)\n",
        "print(\"string with whitespace removed :\",b)"
      ]
    },
    {
      "cell_type": "markdown",
      "metadata": {
        "id": "lvSNJcgjUvpt"
      },
      "source": [
        " 13.\tImplement a program to check if two strings are anagrams of each other."
      ]
    },
    {
      "cell_type": "code",
      "execution_count": null,
      "metadata": {
        "colab": {
          "base_uri": "https://localhost:8080/"
        },
        "id": "97cxpzavU7vu",
        "outputId": "f0b07c87-478c-407f-c2d8-8bdb2df7df89"
      },
      "outputs": [
        {
          "name": "stdout",
          "output_type": "stream",
          "text": [
            "Enter the first string: michel va\n",
            "Enter the second string: michelva\n",
            "The strings are not anagrams.\n"
          ]
        }
      ],
      "source": [
        "def anagram(str1, str2):\n",
        "  str1 = str1.replace(\" \", \"\").lower()\n",
        "  str2 = str2.replace(\" \", \"\").lower()\n",
        "  if len(str1) != len(str2):\n",
        "    return False\n",
        "    freq1 = {}\n",
        "    freq2 = {}\n",
        "    for char in str1:\n",
        "     if char in freq1:\n",
        "      freq1[char] += 1\n",
        "    else:\n",
        "      freq1[char] = 1\n",
        "    for char in str2:\n",
        "     if char in freq2:\n",
        "      freq2[char] += 1\n",
        "    else:\n",
        "      freq2[char] = 1\n",
        "      return freq1 == freq2\n",
        "\n",
        "\n",
        "string1 = input(\"Enter the first string: \")\n",
        "string2 = input(\"Enter the second string: \")\n",
        "\n",
        "\n",
        "if anagram(string1, string2):\n",
        "  print(\"The strings are anagrams.\")\n",
        "else:\n",
        "  print(\"The strings are not anagrams.\")"
      ]
    },
    {
      "cell_type": "markdown",
      "metadata": {
        "id": "4LLCcM2fW5ov"
      },
      "source": [
        "14.\tWrite a program to count the frequency of words in a given sentence.\n"
      ]
    },
    {
      "cell_type": "code",
      "execution_count": null,
      "metadata": {
        "colab": {
          "base_uri": "https://localhost:8080/"
        },
        "id": "zdWcImvHZXm9",
        "outputId": "3754aba9-0cbc-4ebb-b2b7-704e4a2ef31e"
      },
      "outputs": [
        {
          "name": "stdout",
          "output_type": "stream",
          "text": [
            "enter any stringHindi is the best language\n",
            "friquency in string : {'Hindi': 1}\n"
          ]
        }
      ],
      "source": [
        "def wordcount(str):\n",
        "   words = str.split()\n",
        "   word_counts = {}\n",
        "   for word in words:\n",
        "    if word in word_counts:\n",
        "     word_counts[word] += 1\n",
        "    else:\n",
        "      word_counts[word] = 1\n",
        "      return word_counts\n",
        "str=input(\"enter any string\")\n",
        "b=wordcount(str)\n",
        "print(\"friquency in string :\",b)\n"
      ]
    },
    {
      "cell_type": "markdown",
      "metadata": {
        "id": "s5tCCmpgZnnk"
      },
      "source": [
        "15.\tCreate a function that replaces every occurrence of a substring with another substring in a string."
      ]
    },
    {
      "cell_type": "code",
      "execution_count": null,
      "metadata": {
        "colab": {
          "base_uri": "https://localhost:8080/"
        },
        "id": "uUXCwlW_ZsVY",
        "outputId": "38ae3c32-3696-46e9-c0e4-b11b8ff89bd0"
      },
      "outputs": [
        {
          "name": "stdout",
          "output_type": "stream",
          "text": [
            "enter original string :my best friend\n",
            "enter substring to be replaced :my\n",
            "enter substring to replace with :friend\n",
            "modified string is : friend best friend\n"
          ]
        }
      ],
      "source": [
        "def stringremover(t,p,s):\n",
        "  return t.replace(p,s)\n",
        "string1 = input(\"enter original string :\")\n",
        "substring1 = input(\"enter substring to be replaced :\")\n",
        "substring2 = input(\"enter substring to replace with :\")\n",
        "modifiedstring=stringremover(string1,substring1,substring2)\n",
        "print(\"modified string is :\",modifiedstring)"
      ]
    },
    {
      "cell_type": "markdown",
      "metadata": {
        "id": "OBLcsQG5cUA6"
      },
      "source": [
        "16.\tWrite a program that generates the first 10 Fibonacci numbers using iteration."
      ]
    },
    {
      "cell_type": "code",
      "execution_count": null,
      "metadata": {
        "colab": {
          "base_uri": "https://localhost:8080/"
        },
        "id": "W3ddz2PBbOW6",
        "outputId": "7a595279-89ff-47b3-f7d2-137d0dc1bd95"
      },
      "outputs": [
        {
          "name": "stdout",
          "output_type": "stream",
          "text": [
            "Enter the number of Fibonacci numbers to generate: 6\n",
            "Fibonacci Series: [0, 1, 1, 2, 3, 5]\n"
          ]
        }
      ],
      "source": [
        "def fibonacci(n):\n",
        "  series = [0, 1]\n",
        "  if n <= 2:\n",
        "    return series[:n]\n",
        "  for i in range(2, n):\n",
        "    fib = series[i - 1] + series[i - 2]\n",
        "    series.append(fib)\n",
        "  return series\n",
        "num = int(input(\"Enter the number of Fibonacci numbers to generate: \"))\n",
        "numbers = fibonacci(num)\n",
        "print(\"Fibonacci Series:\",numbers)"
      ]
    },
    {
      "cell_type": "markdown",
      "metadata": {
        "id": "0I6YDv8UfhgN"
      },
      "source": [
        "17.\tCreate a program that sums all even numbers from 1 to 100."
      ]
    },
    {
      "cell_type": "code",
      "execution_count": null,
      "metadata": {
        "colab": {
          "base_uri": "https://localhost:8080/"
        },
        "id": "m7rS0kWifYd-",
        "outputId": "1c5339a8-cdab-437e-c31a-23a3015cd59d"
      },
      "outputs": [
        {
          "name": "stdout",
          "output_type": "stream",
          "text": [
            "Sum of even numbers from 1 to 100: 2550\n"
          ]
        }
      ],
      "source": [
        "n = 50\n",
        "total_sum = n * (n + 1)\n",
        "\n",
        "print(\"Sum of even numbers from 1 to 100:\", total_sum)\n"
      ]
    },
    {
      "cell_type": "markdown",
      "metadata": {
        "id": "LlH21aBhgJv-"
      },
      "source": [
        "18.\tWrite a Python script that prints the multiplication table of a user-defined number."
      ]
    },
    {
      "cell_type": "code",
      "execution_count": null,
      "metadata": {
        "colab": {
          "base_uri": "https://localhost:8080/"
        },
        "id": "qRqXBybjgK8u",
        "outputId": "fb2d0d4b-95df-409f-ac5d-ae8d449a1ae0"
      },
      "outputs": [
        {
          "name": "stdout",
          "output_type": "stream",
          "text": [
            "Enter the number for the multiplication table: 5\n",
            "Multiplication Table for 5:\n",
            "5 x 1 = 5\n",
            "5 x 2 = 10\n",
            "5 x 3 = 15\n",
            "5 x 4 = 20\n",
            "5 x 5 = 25\n",
            "5 x 6 = 30\n",
            "5 x 7 = 35\n",
            "5 x 8 = 40\n",
            "5 x 9 = 45\n",
            "5 x 10 = 50\n"
          ]
        }
      ],
      "source": [
        "def multiplication_table(n, range_limit=10):\n",
        "  print(f\"Multiplication Table for {n}:\")\n",
        "  for i in range(1, range_limit + 1):\n",
        "    result = n * i\n",
        "    print(f\"{n} x {i} = {result}\")\n",
        "n = int(input(\"Enter the number for the multiplication table: \"))\n",
        "multiplication_table(n)"
      ]
    },
    {
      "cell_type": "markdown",
      "metadata": {
        "id": "DKfo45Kbhyn8"
      },
      "source": [
        "19.\tDevelop a program that calculates the factorial of a number using a loop.\n"
      ]
    },
    {
      "cell_type": "code",
      "execution_count": null,
      "metadata": {
        "colab": {
          "base_uri": "https://localhost:8080/"
        },
        "id": "YBkT4W0gh0Gd",
        "outputId": "80ee741a-f28c-444b-8ed1-3cd3e740e53a"
      },
      "outputs": [
        {
          "name": "stdout",
          "output_type": "stream",
          "text": [
            "Enter a number: 9\n",
            "The factorial of 9 is 362880\n"
          ]
        }
      ],
      "source": [
        "def factorial(n):\n",
        "  if n < 0:\n",
        "    return \"Factorial is not defined for negative numbers\"\n",
        "  elif n == 0:\n",
        "    return 1\n",
        "  else:\n",
        "    fact = 1\n",
        "    for i in range(1, n + 1):\n",
        "      fact *= i\n",
        "    return fact\n",
        "num = int(input(\"Enter a number: \"))\n",
        "result = factorial(num)\n",
        "print(f\"The factorial of {num} is {result}\")"
      ]
    },
    {
      "cell_type": "markdown",
      "metadata": {
        "id": "7VAKPEkribgW"
      },
      "source": [
        "20.\tCreate a function that lists all prime numbers up to a specified limit."
      ]
    },
    {
      "cell_type": "code",
      "execution_count": null,
      "metadata": {
        "colab": {
          "base_uri": "https://localhost:8080/"
        },
        "id": "v_kzLG23iWHG",
        "outputId": "8f68c98d-05ed-4544-8cf5-b076c9d8e48d"
      },
      "outputs": [
        {
          "name": "stdout",
          "output_type": "stream",
          "text": [
            "Enter the limit: 7\n",
            "Prime numbers up to 7 are: [2, 3, 5, 7]\n"
          ]
        }
      ],
      "source": [
        "import math\n",
        "\n",
        "def list_primes(limit):\n",
        "  primes = []\n",
        "  for num in range(2, limit + 1):\n",
        "    is_prime = True\n",
        "    for i in range(2, int(math.sqrt(num)) + 1):\n",
        "      if num % i == 0:\n",
        "        is_prime = False\n",
        "        break\n",
        "    if is_prime:\n",
        "      primes.append(num)\n",
        "  return primes\n",
        "limit = int(input(\"Enter the limit: \"))\n",
        "prime_numbers = list_primes(limit)\n",
        "print(\"Prime numbers up to\", limit, \"are:\", prime_numbers)"
      ]
    },
    {
      "cell_type": "code",
      "execution_count": null,
      "metadata": {},
      "outputs": [],
      "source": [
        "import numpy as np"
      ]
    },
    {
      "cell_type": "markdown",
      "metadata": {
        "id": "T1eocdU1CD5L"
      },
      "source": [
        "21.\tWrite a function that calculates the greatest common divisor (GCD) of two numbers."
      ]
    },
    {
      "cell_type": "code",
      "execution_count": null,
      "metadata": {
        "id": "g9q35uCrCzLP"
      },
      "outputs": [],
      "source": []
    },
    {
      "cell_type": "code",
      "execution_count": 3,
      "metadata": {
        "colab": {
          "base_uri": "https://localhost:8080/"
        },
        "id": "Vh0SWQkDC0Ot",
        "outputId": "e07985f1-513e-4648-e6a2-1a4dbd660417"
      },
      "outputs": [
        {
          "name": "stdout",
          "output_type": "stream",
          "text": [
            "Enter the first number: 4\n",
            "Enter the second number: 8\n",
            "The GCD of 4 and 8 is 4\n"
          ]
        }
      ],
      "source": [
        "def gcd(x, y):\n",
        "  while y:\n",
        "    x, y = y, x % y\n",
        "  return x\n",
        "num1 = int(input(\"Enter the first number: \"))\n",
        "num2 = int(input(\"Enter the second number: \"))\n",
        "result = gcd(num1, num2)\n",
        "print(\"The GCD of\", num1, \"and\", num2, \"is\", result)"
      ]
    },
    {
      "cell_type": "markdown",
      "metadata": {
        "id": "ZEOrG-utDeHH"
      },
      "source": [
        "22.\tCreate a Python function that takes a list of numbers and returns the largest number."
      ]
    },
    {
      "cell_type": "code",
      "execution_count": 4,
      "metadata": {
        "colab": {
          "base_uri": "https://localhost:8080/"
        },
        "id": "mPIUVC3ID7sg",
        "outputId": "da246c8a-f2e9-430d-d2d5-ba3b38f1a730"
      },
      "outputs": [
        {
          "name": "stdout",
          "output_type": "stream",
          "text": [
            "Enter the number of elements in the list: 4\n",
            "Enter element 1: 1\n",
            "Enter element 2: 5\n",
            "Enter element 3: 8\n",
            "Enter element 4: 0\n",
            "The largest number in the list is: 8\n"
          ]
        }
      ],
      "source": [
        "def largestno(numbers):\n",
        "  if not numbers:\n",
        "    return None\n",
        "  largest_number = numbers[0]\n",
        "  for number in numbers:\n",
        "    if number > largest_number:\n",
        "      largest_number = number\n",
        "\n",
        "  return largest_number\n",
        "numberslist = []\n",
        "numelements = int(input(\"Enter the number of elements in the list: \"))\n",
        "\n",
        "for i in range(numelements):\n",
        "  number = int(input(f\"Enter element {i + 1}: \"))\n",
        "  numberslist.append(number)\n",
        "largest = largestno(numberslist)\n",
        "if largest is not None:\n",
        "  print(\"The largest number in the list is:\", largest)\n",
        "else:\n",
        "  print(\"The list is empty.\")"
      ]
    },
    {
      "cell_type": "markdown",
      "metadata": {
        "id": "oVzm6VY3E8kb"
      },
      "source": [
        "23.\tImplement a function for finding the factorial of a number using recursion."
      ]
    },
    {
      "cell_type": "code",
      "execution_count": 7,
      "metadata": {
        "colab": {
          "base_uri": "https://localhost:8080/"
        },
        "id": "jrHIeTfHFCvS",
        "outputId": "3d40ce74-d66d-4ff9-d39c-7ec40bf26ad8"
      },
      "outputs": [
        {
          "name": "stdout",
          "output_type": "stream",
          "text": [
            "Enter a non-negative integer: 8\n",
            "The factorial of 8 is 40320\n"
          ]
        }
      ],
      "source": [
        "def factorialrecursive(n):\n",
        "  if n == 0:\n",
        "    return 1\n",
        "  else:\n",
        "    return n * factorialrecursive(n - 1)\n",
        "num = int(input(\"Enter a non-negative integer: \"))\n",
        "if num >= 0:\n",
        "  result = factorialrecursive(num)\n",
        "  print(f\"The factorial of {num} is {result}\")\n",
        "else:\n",
        "  print(\"Factorial is not defined for negative numbers.\")"
      ]
    },
    {
      "cell_type": "markdown",
      "metadata": {
        "id": "KlmjKoyuFr6-"
      },
      "source": [
        "24.\tWrite a program that utilizes global variables and demonstrates their use in functions."
      ]
    },
    {
      "cell_type": "code",
      "execution_count": 8,
      "metadata": {
        "colab": {
          "base_uri": "https://localhost:8080/"
        },
        "id": "is38YyBFF9bj",
        "outputId": "ac80b1b9-cd8e-45b3-cb9f-9709f944fb10"
      },
      "outputs": [
        {
          "name": "stdout",
          "output_type": "stream",
          "text": [
            "Current counter value: 0\n",
            "Current counter value: 1\n",
            "Current counter value: 2\n"
          ]
        }
      ],
      "source": [
        "globalvar = 0\n",
        "def incrementcounter():\n",
        "  global globalvar\n",
        "  globalvar += 1\n",
        "def print_counter():\n",
        "  print(\"Current counter value:\", globalvar)\n",
        "print_counter()\n",
        "incrementcounter()\n",
        "print_counter()\n",
        "incrementcounter()\n",
        "print_counter()"
      ]
    },
    {
      "cell_type": "markdown",
      "metadata": {
        "id": "4n5ZjWD2Gz5O"
      },
      "source": [
        "25.\tDevelop a module that contains utility functions for string manipulations."
      ]
    },
    {
      "cell_type": "code",
      "execution_count": 14,
      "metadata": {
        "id": "GT03pzgmINSM"
      },
      "outputs": [],
      "source": [
        "def reversestring(text):\n",
        "     return text[::-1]\n",
        "def removewhitespace(text):\n",
        "     return text.replace(\" \", \"\")\n",
        "\n",
        "def ispalindrome(text):\n",
        "     processedtext = text.lower().replace(\" \", \"\")\n",
        "     return processedtext == processedtext[::-1]"
      ]
    },
    {
      "cell_type": "code",
      "execution_count": 15,
      "metadata": {
        "colab": {
          "base_uri": "https://localhost:8080/"
        },
        "id": "VQbYKQSIIg9T",
        "outputId": "b566fbaf-fdea-40b8-f515-107fde9d5908"
      },
      "outputs": [
        {
          "name": "stdout",
          "output_type": "stream",
          "text": [
            "Reversed string: !dlrow ,olleH\n",
            "String with no spaces: Hello,world!\n",
            "Is 'racecar' a palindrome? True\n"
          ]
        }
      ],
      "source": [
        "string1 = \"Hello, world!\"\n",
        "reversedstring = reversestring(string1)\n",
        "stringnospaces = removewhitespace(string1)\n",
        "ispalindromeresult = ispalindrome(\"racecar\")\n",
        "\n",
        "print(\"Reversed string:\", reversedstring)\n",
        "print(\"String with no spaces:\", stringnospaces)\n",
        "print(\"Is 'racecar' a palindrome?\", ispalindromeresult)"
      ]
    },
    {
      "cell_type": "markdown",
      "metadata": {
        "id": "HMPWrYSSJeD2"
      },
      "source": [
        "26.\tWrite a simple testing script that verifies the functionality of your calculator from a previous assignment."
      ]
    },
    {
      "cell_type": "code",
      "execution_count": 21,
      "metadata": {
        "colab": {
          "base_uri": "https://localhost:8080/"
        },
        "id": "qMJrNk_wJn-Y",
        "outputId": "8248c883-6e7e-4e61-84bf-79b63d512993"
      },
      "outputs": [
        {
          "name": "stdout",
          "output_type": "stream",
          "text": [
            "All test cases passed!\n"
          ]
        }
      ],
      "source": [
        "def calculator(a, b, c):\n",
        "    if c == \"+\":\n",
        "        return a + b\n",
        "    elif c == \"-\":\n",
        "        return a - b\n",
        "    elif c == \"*\":\n",
        "        return a * b\n",
        "    elif c == \"/\":\n",
        "        return a / b\n",
        "\n",
        "# This is the testing script\n",
        "def test_calculator():\n",
        "    # Test cases for addition\n",
        "    assert calculator(2, 3, \"+\") == 5\n",
        "    assert calculator(-2, 3, \"+\") == 1\n",
        "    assert calculator(2, -3, \"+\") == -1\n",
        "\n",
        "    # Test cases for subtraction\n",
        "    assert calculator(5, 3, \"-\") == 2\n",
        "    assert calculator(-5, 3, \"-\") == -8\n",
        "    assert calculator(5, -3, \"-\") == 8\n",
        "\n",
        "    # Test cases for multiplication\n",
        "    assert calculator(2, 3, \"*\") == 6\n",
        "    assert calculator(-2, 3, \"*\") == -6\n",
        "    assert calculator(2, -3, \"*\") == -6\n",
        "\n",
        "    # Test cases for division\n",
        "    assert calculator(6, 3, \"/\") == 2\n",
        "    assert calculator(-6, 3, \"/\") == -2\n",
        "    assert calculator(6, -3, \"/\") == -2\n",
        "\n",
        "    print(\"All test cases passed!\")\n",
        "\n",
        "test_calculator()"
      ]
    },
    {
      "cell_type": "markdown",
      "metadata": {
        "id": "Z0xwMI78MjlX"
      },
      "source": [
        "27.\tCreate a program that includes debugging statements to show the flow of execution."
      ]
    },
    {
      "cell_type": "code",
      "execution_count": 25,
      "metadata": {
        "colab": {
          "base_uri": "https://localhost:8080/"
        },
        "id": "mhvCrAjdMuIm",
        "outputId": "db21019a-bfc4-4b9a-db10-c34d534ff828"
      },
      "outputs": [
        {
          "name": "stdout",
          "output_type": "stream",
          "text": [
            "Enter a number: 5\n",
            "Entering factorial function with n = 5\n",
            "Iteration 1: result = 1, i = 1\n",
            "Iteration 2: result = 1, i = 2\n",
            "Iteration 3: result = 2, i = 3\n",
            "Iteration 4: result = 6, i = 4\n",
            "Iteration 5: result = 24, i = 5\n",
            "Exiting factorial function with result = 120\n",
            "The factorial of 5 is 120\n"
          ]
        }
      ],
      "source": [
        "def factorial(n):\n",
        "    print(f\"Entering factorial function with n = {n}\")\n",
        "    result = 1\n",
        "    for i in range(1, n + 1):\n",
        "        print(f\"Iteration {i}: result = {result}, i = {i}\")\n",
        "        result *= i\n",
        "    print(f\"Exiting factorial function with result = {result}\")\n",
        "    return result\n",
        "\n",
        "number = int(input(\"Enter a number: \"))\n",
        "\n",
        "fact = factorial(number)\n",
        "\n",
        "print(f\"The factorial of {number} is {fact}\")"
      ]
    },
    {
      "cell_type": "markdown",
      "metadata": {
        "id": "Di9S7dhRNhYb"
      },
      "source": [
        "28.\tImplement a function and write unit tests to confirm its correctness using assertions."
      ]
    },
    {
      "cell_type": "code",
      "execution_count": 26,
      "metadata": {
        "id": "XQvVnWQYN3B1"
      },
      "outputs": [],
      "source": [
        "def calculate_area(length, width):\n",
        "    if length < 0 or width < 0:\n",
        "        raise ValueError(\"Length and width cannot be negative.\")\n",
        "    return length * width\n",
        "\n"
      ]
    },
    {
      "cell_type": "code",
      "execution_count": 28,
      "metadata": {
        "colab": {
          "base_uri": "https://localhost:8080/"
        },
        "id": "o2wDOKNMOdwL",
        "outputId": "623a5b99-0a37-4d83-f7fa-cab852b7bda3"
      },
      "outputs": [
        {
          "name": "stderr",
          "output_type": "stream",
          "text": [
            "........\n",
            "----------------------------------------------------------------------\n",
            "Ran 8 tests in 0.017s\n",
            "\n",
            "OK\n"
          ]
        }
      ],
      "source": [
        "import unittest\n",
        "\n",
        "class TestCalculateArea(unittest.TestCase):\n",
        "    def test_positive_length_and_width(self):\n",
        "        self.assertEqual(calculate_area(4, 5), 20)\n",
        "\n",
        "    def test_zero_length_or_width(self):\n",
        "        self.assertEqual(calculate_area(0, 5), 0)\n",
        "        self.assertEqual(calculate_area(4, 0), 0)\n",
        "\n",
        "    def test_negative_length_or_width(self):\n",
        "        with self.assertRaises(ValueError):\n",
        "            calculate_area(-4, 5)\n",
        "        with self.assertRaises(ValueError):\n",
        "            calculate_area(4, -5)\n",
        "\n",
        "    def test_non_numeric_input(self):\n",
        "        with self.assertRaises(TypeError):\n",
        "            calculate_area(\"four\", 5)\n",
        "        with self.assertRaises(TypeError):\n",
        "            calculate_area(4, \"five\")\n",
        "\n",
        "# To prevent automatic exit in IPython, use exit=False:\n",
        "if __name__ == '__main__':\n",
        "    unittest.main(argv=['first-arg-is-ignored'], exit=False)"
      ]
    },
    {
      "cell_type": "markdown",
      "metadata": {
        "id": "OF1HBgwoOhM5"
      },
      "source": [
        "29.\tWrite a program that intentionally has a bug, and then demonstrate how to fix it."
      ]
    },
    {
      "cell_type": "code",
      "execution_count": 31,
      "metadata": {
        "colab": {
          "base_uri": "https://localhost:8080/"
        },
        "id": "s9E8AYeoOuFU",
        "outputId": "e39024c8-9d51-4757-99ac-0cac6cc0541d"
      },
      "outputs": [
        {
          "name": "stdout",
          "output_type": "stream",
          "text": [
            "The average is: 30.0\n",
            "The average is: 0\n"
          ]
        }
      ],
      "source": [
        "def calculateaverage(numbers):\n",
        "    total = sum(numbers)\n",
        "    if len(numbers) == 0:\n",
        "        return 0\n",
        "    else:\n",
        "        average = total / len(numbers)\n",
        "        return average\n",
        "\n",
        "numbers = [10, 20, 30, 40, 50]\n",
        "average = calculateaverage(numbers)\n",
        "print(f\"The average is: {average}\")\n",
        "\n",
        "numbers2 = []\n",
        "average2 = calculateaverage(numbers2)\n",
        "print(f\"The average is: {average2}\")"
      ]
    },
    {
      "cell_type": "markdown",
      "metadata": {
        "id": "oiHv5SwoPaCa"
      },
      "source": [
        "30.\tCreate a logging system that tracks function calls and their parameters."
      ]
    },
    {
      "cell_type": "code",
      "execution_count": 32,
      "metadata": {
        "colab": {
          "base_uri": "https://localhost:8080/"
        },
        "id": "klhdXz2vPgM2",
        "outputId": "c78914e5-2357-4308-c530-b62f83ba5b51"
      },
      "outputs": [
        {
          "name": "stdout",
          "output_type": "stream",
          "text": [
            "add result: 5\n",
            "subtract result: 3\n",
            "multiply result: 24\n",
            "divide result: 5.0\n"
          ]
        }
      ],
      "source": [
        "import logging\n",
        "logging.basicConfig(filename='function_calls.log', level=logging.INFO,\n",
        "                    format='%(asctime)s - %(name)s - %(levelname)s - %(message)s')\n",
        "\n",
        "def log_function_call(func):\n",
        "    def wrapper(*args, **kwargs):\n",
        "        logger = logging.getLogger(func.__module__)\n",
        "        log_message = f\"Calling function: {func.__name__} with args: {args}, kwargs: {kwargs}\"\n",
        "        logger.info(log_message)\n",
        "        return func(*args, **kwargs)\n",
        "    return wrapper\n",
        "@log_function_call\n",
        "def add(x, y):\n",
        "    return x + y\n",
        "\n",
        "@log_function_call\n",
        "def subtract(x, y):\n",
        "    return x - y\n",
        "\n",
        "@log_function_call\n",
        "def multiply(x, y):\n",
        "    return x * y\n",
        "\n",
        "@log_function_call\n",
        "def divide(x, y):\n",
        "    if y == 0:\n",
        "        raise ValueError(\"Cannot divide by zero!\")\n",
        "    return x / y\n",
        "result_add = add(2, 3)\n",
        "result_subtract = subtract(5, 2)\n",
        "result_multiply = multiply(4, 6)\n",
        "result_divide = divide(10, 2)\n",
        "\n",
        "print(f\"add result: {result_add}\")\n",
        "print(f\"subtract result: {result_subtract}\")\n",
        "print(f\"multiply result: {result_multiply}\")\n",
        "print(f\"divide result: {result_divide}\")"
      ]
    },
    {
      "cell_type": "markdown",
      "metadata": {
        "id": "wsjoyPN3P_vo"
      },
      "source": [
        "31.\tWrite a Python script to demonstrate the usage of tuples for storing coordinates."
      ]
    },
    {
      "cell_type": "code",
      "execution_count": 34,
      "metadata": {
        "colab": {
          "base_uri": "https://localhost:8080/"
        },
        "id": "qeHVFhiqQH4i",
        "outputId": "bb2fe5e1-6ffa-47c3-97c7-dd317b0ca19b"
      },
      "outputs": [
        {
          "name": "stdout",
          "output_type": "stream",
          "text": [
            "Point A: (1, 2)\n",
            "Point B: (4, 6)\n",
            "Distance between A and B: 5.0\n"
          ]
        }
      ],
      "source": [
        "def calculate_distance(point1, point2):\n",
        "    x1, y1 = point1\n",
        "    x2, y2 = point2\n",
        "    distance = ((x2 - x1)**2 + (y2 - y1)**2)**0.5\n",
        "    return distance\n",
        "pointa = (1, 2)\n",
        "pointb = (4, 6)\n",
        "distance_ab = calculate_distance(pointa, pointb)\n",
        "print(f\"Point A: {pointa}\")\n",
        "print(f\"Point B: {pointb}\")\n",
        "print(f\"Distance between A and B: {distance_ab}\")"
      ]
    },
    {
      "cell_type": "markdown",
      "metadata": {
        "id": "16flYxakQlCU"
      },
      "source": [
        "32.\tCreate a program that uses lists and demonstrates mutability by modifying the list items."
      ]
    },
    {
      "cell_type": "code",
      "execution_count": 36,
      "metadata": {
        "colab": {
          "base_uri": "https://localhost:8080/"
        },
        "id": "1I47VHa7Qntu",
        "outputId": "6f1034e9-2c31-41e5-da93-5221b3994283"
      },
      "outputs": [
        {
          "name": "stdout",
          "output_type": "stream",
          "text": [
            "Original list: [1, 2, 3, 4, 5]\n",
            "Modified list: [10, 2, 30, 40, 5, 6]\n"
          ]
        }
      ],
      "source": [
        "list = [1, 2, 3, 4, 5]\n",
        "print(\"Original list:\", list)\n",
        "list[0] = 10\n",
        "list[2:4] = [30, 40]\n",
        "list.append(6)\n",
        "print(\"Modified list:\", list)"
      ]
    },
    {
      "cell_type": "markdown",
      "metadata": {
        "id": "k7eAnKORRM3Z"
      },
      "source": [
        "33.\tImplement a higher-order function that takes another function as an argument and applies it to a list."
      ]
    },
    {
      "cell_type": "code",
      "execution_count": 37,
      "metadata": {
        "colab": {
          "base_uri": "https://localhost:8080/"
        },
        "id": "Gq12wAE4RWuK",
        "outputId": "e6ec4275-b2a7-401d-f8f9-f52c4181eb0c"
      },
      "outputs": [
        {
          "name": "stdout",
          "output_type": "stream",
          "text": [
            "Original numbers: [1, 2, 3, 4, 5]\n",
            "Squared numbers: [1, 4, 9, 16, 25]\n"
          ]
        }
      ],
      "source": [
        "def applyfunctiontolist(func, data_list):\n",
        "    return [func(item) for item in data_list]\n",
        "def square(x):\n",
        "    return x * x\n",
        "list = [1, 2, 3, 4, 5]\n",
        "squared_numbers = applyfunctiontolist(square, list)\n",
        "print(\"Original numbers:\", list)\n",
        "print(\"Squared numbers:\", squared_numbers)"
      ]
    },
    {
      "cell_type": "markdown",
      "metadata": {
        "id": "vLvZzyhjRpa2"
      },
      "source": [
        "34.\tWrite a program to simulate a simple inventory system using dictionaries."
      ]
    },
    {
      "cell_type": "code",
      "execution_count": 38,
      "metadata": {
        "colab": {
          "base_uri": "https://localhost:8080/"
        },
        "id": "fsp3Lx81SHbP",
        "outputId": "938fb436-2a8b-4a13-db10-11ed064cc923"
      },
      "outputs": [
        {
          "name": "stdout",
          "output_type": "stream",
          "text": [
            "Current Inventory:\n",
            "apple: 10\n",
            "banana: 5\n",
            "orange: 8\n",
            "--------------------\n",
            "Added 5 apple(s) to inventory.\n",
            "Added 12 grape(s) to inventory.\n",
            "Current Inventory:\n",
            "apple: 15\n",
            "banana: 5\n",
            "orange: 8\n",
            "grape: 12\n",
            "--------------------\n",
            "Removed 3 banana(s) from inventory.\n",
            "Not enough orange(s) in inventory.\n",
            "Current Inventory:\n",
            "apple: 15\n",
            "banana: 2\n",
            "orange: 8\n",
            "grape: 12\n",
            "--------------------\n"
          ]
        }
      ],
      "source": [
        "def display_inventory(inventory):\n",
        "    print(\"Current Inventory:\")\n",
        "    for item, quantity in inventory.items():\n",
        "        print(f\"{item}: {quantity}\")\n",
        "    print(\"-\" * 20)\n",
        "\n",
        "def add_item(inventory, item, quantity):\n",
        "    if item in inventory:\n",
        "        inventory[item] += quantity\n",
        "    else:\n",
        "        inventory[item] = quantity\n",
        "    print(f\"Added {quantity} {item}(s) to inventory.\")\n",
        "\n",
        "def remove_item(inventory, item, quantity):\n",
        "    if item in inventory:\n",
        "        if inventory[item] >= quantity:\n",
        "            inventory[item] -= quantity\n",
        "            print(f\"Removed {quantity} {item}(s) from inventory.\")\n",
        "        else:\n",
        "            print(f\"Not enough {item}(s) in inventory.\")\n",
        "    else:\n",
        "        print(f\"{item} not found in inventory.\")\n",
        "inventory = {\n",
        "    \"apple\": 10,\n",
        "    \"banana\": 5,\n",
        "    \"orange\": 8,\n",
        "}\n",
        "display_inventory(inventory)\n",
        "add_item(inventory, \"apple\", 5)\n",
        "add_item(inventory, \"grape\", 12)\n",
        "display_inventory(inventory)\n",
        "remove_item(inventory, \"banana\", 3)\n",
        "remove_item(inventory, \"orange\", 10)\n",
        "display_inventory(inventory)"
      ]
    },
    {
      "cell_type": "markdown",
      "metadata": {
        "id": "4c_-wWksX-Ga"
      },
      "source": [
        "35.\tCreate a function that sorts a list of dictionaries by a specified key."
      ]
    },
    {
      "cell_type": "code",
      "execution_count": 40,
      "metadata": {
        "colab": {
          "base_uri": "https://localhost:8080/"
        },
        "id": "ZLHfQo1qYGcj",
        "outputId": "dd18cc10-8340-4c36-e331-0e3b4d2457bc"
      },
      "outputs": [
        {
          "name": "stdout",
          "output_type": "stream",
          "text": [
            "Sorted by age: [{'name': 'piyush', 'age': 19}, {'name': 'pooja', 'age': 19}, {'name': 'aashi', 'age': 20}]\n",
            "Sorted by name: [{'name': 'aashi', 'age': 20}, {'name': 'piyush', 'age': 19}, {'name': 'pooja', 'age': 19}]\n"
          ]
        }
      ],
      "source": [
        "def sort_list_of_dictionaries(list_of_dictionaries, key):\n",
        "    return sorted(list_of_dictionaries, key=lambda dictionary: dictionary[key])\n",
        "data = [\n",
        "    {'name': 'piyush', 'age': 19},\n",
        "    {'name': 'aashi', 'age': 20},\n",
        "    {'name': 'pooja', 'age': 19},\n",
        "]\n",
        "sorted_data_by_age = sort_list_of_dictionaries(data, 'age')\n",
        "sorted_data_by_name = sort_list_of_dictionaries(data, 'name')\n",
        "\n",
        "print(\"Sorted by age:\", sorted_data_by_age)\n",
        "print(\"Sorted by name:\", sorted_data_by_name)"
      ]
    },
    {
      "cell_type": "markdown",
      "metadata": {
        "id": "S17TW-lwZx4z"
      },
      "source": [
        "36.\tWrite a program that reads a file and handles exceptions if the file does not exist."
      ]
    },
    {
      "cell_type": "code",
      "execution_count": 43,
      "metadata": {
        "colab": {
          "base_uri": "https://localhost:8080/"
        },
        "id": "0QMKBBr7bbEv",
        "outputId": "6fd5b7fc-0f9c-4b02-f5f1-90f371093a9d"
      },
      "outputs": [
        {
          "name": "stdout",
          "output_type": "stream",
          "text": [
            "Enter the filename: dataset./csv\n",
            "Error: File 'dataset./csv' not found.\n"
          ]
        }
      ],
      "source": [
        "def read_file_with_exception_handling(filename):\n",
        "\n",
        "    try:\n",
        "        with open(filename, 'r') as file:\n",
        "            contents = file.read()\n",
        "        return contents\n",
        "    except FileNotFoundError:\n",
        "        return f\"Error: File '{filename}' not found.\"\n",
        "filename = input(\"Enter the filename: \")\n",
        "file_contents = read_file_with_exception_handling(filename)\n",
        "print(file_contents)"
      ]
    },
    {
      "cell_type": "markdown",
      "metadata": {
        "id": "kIe-IEHDb72T"
      },
      "source": [
        "37.\tCreate a function that raises an exception if the input is not a positive number."
      ]
    },
    {
      "cell_type": "code",
      "execution_count": 46,
      "metadata": {
        "colab": {
          "base_uri": "https://localhost:8080/"
        },
        "id": "ncL6_aSjcFQy",
        "outputId": "6f6dca7a-b6aa-4c97-a5df-f6244d6814b1"
      },
      "outputs": [
        {
          "name": "stdout",
          "output_type": "stream",
          "text": [
            "Enter a positive number: -90\n",
            "Error: Input must be a positive number.\n"
          ]
        }
      ],
      "source": [
        "def maybepositive(number):\n",
        "    if number <= 0:\n",
        "        raise ValueError(\"Input must be a positive number.\")\n",
        "try:\n",
        "    user_input = int(input(\"Enter a positive number: \"))\n",
        "    maybepositive(user_input)\n",
        "    print(\"Input is valid:\", user_input)\n",
        "except ValueError as e:\n",
        "    print(\"Error:\", e)"
      ]
    },
    {
      "cell_type": "markdown",
      "metadata": {
        "id": "SBj0RB78cO92"
      },
      "source": [
        "38.\tImplement a program that uses assertions to check the validity of user input."
      ]
    },
    {
      "cell_type": "code",
      "execution_count": 48,
      "metadata": {
        "colab": {
          "base_uri": "https://localhost:8080/"
        },
        "id": "Dzhw3ov6cqdY",
        "outputId": "f24251cb-9df5-48b1-9f55-67cbe1d6d672"
      },
      "outputs": [
        {
          "name": "stdout",
          "output_type": "stream",
          "text": [
            "Enter your age: kl\n",
            "Invalid input: Age must be an integer.\n"
          ]
        }
      ],
      "source": [
        "def validate(age):\n",
        "    assert isinstance(age, int), \"Age must be an integer.\"\n",
        "    assert age > 0, \"Age must be positive.\"\n",
        "age = input(\"Enter your age: \")\n",
        "\n",
        "try:\n",
        "    age = int(age)\n",
        "    validate(age)\n",
        "    print(\"Valid age:\", age)\n",
        "except ValueError:\n",
        "    print(\"Invalid input: Age must be an integer.\")\n",
        "except AssertionError as e:\n",
        "    print(\"Error:\", e)"
      ]
    },
    {
      "cell_type": "markdown",
      "metadata": {
        "id": "x1UEVSindFGQ"
      },
      "source": [
        "39.\tWrite a function to demonstrate the use of try-except blocks when dividing numbers."
      ]
    },
    {
      "cell_type": "code",
      "execution_count": 49,
      "metadata": {
        "colab": {
          "base_uri": "https://localhost:8080/"
        },
        "id": "_9KAfDBwdNg-",
        "outputId": "79a23d9f-d537-4242-d798-e67718bf8ca0"
      },
      "outputs": [
        {
          "name": "stdout",
          "output_type": "stream",
          "text": [
            "Error: Cannot divide by zero.\n",
            "5.0\n"
          ]
        }
      ],
      "source": [
        "def safedivide(numerator, denominator):\n",
        "    try:\n",
        "        result = numerator / denominator\n",
        "        return result\n",
        "    except ZeroDivisionError:\n",
        "        return \"Error: Cannot divide by zero.\"\n",
        "num1 = 10\n",
        "num2 = 0\n",
        "\n",
        "result = safedivide(num1, num2)\n",
        "print(result)\n",
        "\n",
        "num1 = 10\n",
        "num2 = 2\n",
        "\n",
        "result = safedivide(num1, num2)\n",
        "print(result)"
      ]
    },
    {
      "cell_type": "markdown",
      "metadata": {
        "id": "rxnxmgTjdl_H"
      },
      "source": [
        "40.\tCreate a program that captures and logs exceptions thrown in a mathematical computation."
      ]
    },
    {
      "cell_type": "code",
      "execution_count": 53,
      "metadata": {
        "colab": {
          "base_uri": "https://localhost:8080/"
        },
        "id": "PQcTtuF2duoz",
        "outputId": "ce2e4507-7162-4589-ab39-faba4d7187d7"
      },
      "outputs": [
        {
          "name": "stdout",
          "output_type": "stream",
          "text": [
            "Result: 1.6666666666666667\n",
            "Result: 5.0\n"
          ]
        }
      ],
      "source": [
        "import logging\n",
        "logging.basicConfig(filename='math_errors.log', level=logging.ERROR,\n",
        "                    format='%(asctime)s - %(levelname)s - %(message)s')\n",
        "\n",
        "def perform_calculation(x, y):\n",
        "    try:\n",
        "        result = x / y\n",
        "        return result\n",
        "    except ZeroDivisionError:\n",
        "        logging.exception(\"Division by zero error occurred.\")\n",
        "    except Exception as e:\n",
        "        logging.exception(f\"An unexpected error occurred: {e}\")\n",
        "num1 = 10\n",
        "num2 = 6\n",
        "\n",
        "result = perform_calculation(num1, num2)\n",
        "if result is not None:\n",
        "    print(\"Result:\", result)\n",
        "\n",
        "num1 = 10\n",
        "num2 = 2\n",
        "\n",
        "result = perform_calculation(num1, num2)\n",
        "if result is not None:\n",
        "    print(\"Result:\", result)"
      ]
    },
    {
      "cell_type": "markdown",
      "metadata": {
        "id": "NdLkDfrpeMEp"
      },
      "source": [
        "41.\tDefine a class for a Rectangle that calculates the area and perimeter."
      ]
    },
    {
      "cell_type": "code",
      "execution_count": 55,
      "metadata": {
        "colab": {
          "base_uri": "https://localhost:8080/"
        },
        "id": "dtV7POD6eZsh",
        "outputId": "c7b0bd14-0cff-482d-a1ca-666b121cb705"
      },
      "outputs": [
        {
          "name": "stdout",
          "output_type": "stream",
          "text": [
            "Area: 15\n",
            "Perimeter: 16\n"
          ]
        }
      ],
      "source": [
        "class Rectangle:\n",
        "    def __init__(self, width, height):\n",
        "        self.width = width\n",
        "        self.height = height\n",
        "\n",
        "    def area(self):\n",
        "        return self.width * self.height\n",
        "    def perimeter(self):\n",
        "        return 2 * (self.width + self.height)\n",
        "rectangle = Rectangle(5, 3)\n",
        "print(\"Area:\", rectangle.area())\n",
        "print(\"Perimeter:\", rectangle.perimeter())"
      ]
    },
    {
      "cell_type": "markdown",
      "metadata": {
        "id": "yn3uPypTe5dF"
      },
      "source": [
        "42.\tCreate a class that models a BankAccount with methods to deposit and withdraw funds."
      ]
    },
    {
      "cell_type": "code",
      "execution_count": 56,
      "metadata": {
        "colab": {
          "base_uri": "https://localhost:8080/"
        },
        "id": "SMsr-8KNfEGF",
        "outputId": "b3f3abc5-bce1-4138-f582-a3937a5ca87d"
      },
      "outputs": [
        {
          "name": "stdout",
          "output_type": "stream",
          "text": [
            "Deposited $500.00. New balance: $1500.00\n",
            "Withdrew $200.00. New balance: $1300.00\n",
            "Insufficient funds.\n"
          ]
        }
      ],
      "source": [
        "class BankAccount:\n",
        "\n",
        "    def __init__(self, account_number, initial_balance=0):\n",
        "        self.account_number = account_number\n",
        "        self.balance = initial_balance\n",
        "\n",
        "    def deposit(self, amount):\n",
        "        if amount > 0:\n",
        "            self.balance += amount\n",
        "            print(f\"Deposited ${amount:.2f}. New balance: ${self.balance:.2f}\")\n",
        "        else:\n",
        "            print(\"Invalid deposit amount. Amount must be positive.\")\n",
        "\n",
        "    def withdraw(self, amount):\n",
        "        if amount > 0:\n",
        "            if self.balance >= amount:\n",
        "                self.balance -= amount\n",
        "                print(f\"Withdrew ${amount:.2f}. New balance: ${self.balance:.2f}\")\n",
        "            else:\n",
        "                print(\"Insufficient funds.\")\n",
        "        else:\n",
        "            print(\"Invalid withdrawal amount. Amount must be positive.\")\n",
        "account = BankAccount(\"1234567890\", 1000) #obj creation\n",
        "#make some transactions\n",
        "account.deposit(500)\n",
        "account.withdraw(200)\n",
        "account.withdraw(1500)"
      ]
    },
    {
      "cell_type": "markdown",
      "metadata": {
        "id": "SacUgc7tfx5Q"
      },
      "source": [
        "43.\tImplement inheritance by creating a Circle class that inherits from a Shape class."
      ]
    },
    {
      "cell_type": "code",
      "execution_count": 57,
      "metadata": {
        "colab": {
          "base_uri": "https://localhost:8080/"
        },
        "id": "T-4F7xzjga0R",
        "outputId": "806b0c07-76a0-40e1-9076-2d4c2b4c11b0"
      },
      "outputs": [
        {
          "name": "stdout",
          "output_type": "stream",
          "text": [
            "Color: red\n",
            "Area: 78.53981633974483\n",
            "Circumference: 31.41592653589793\n"
          ]
        }
      ],
      "source": [
        "import math\n",
        "\n",
        "class Shape:\n",
        "\n",
        "    def __init__(self, color=\"black\"):\n",
        "        self.color = color\n",
        "\n",
        "    def get_color(self):\n",
        "        return self.color\n",
        "\n",
        "class Circle(Shape):\n",
        "\n",
        "    def __init__(self, radius, color=\"black\"):\n",
        "        super().__init__(color)\n",
        "        self.radius = radius\n",
        "\n",
        "    def area(self):\n",
        "        return math.pi * self.radius**2\n",
        "\n",
        "    def circumference(self):\n",
        "        return 2 * math.pi * self.radius\n",
        "\n",
        "\n",
        "circle = Circle(5, \"red\")\n",
        "print(\"Color:\", circle.get_color())\n",
        "print(\"Area:\", circle.area())\n",
        "print(\"Circumference:\", circle.circumference())"
      ]
    },
    {
      "cell_type": "markdown",
      "metadata": {
        "id": "7tW0hxqog7TI"
      },
      "source": [
        "44.\tWrite a program that demonstrates encapsulation through private class members."
      ]
    },
    {
      "cell_type": "code",
      "execution_count": 60,
      "metadata": {
        "colab": {
          "base_uri": "https://localhost:8080/"
        },
        "id": "k0BDU4ErhOYX",
        "outputId": "5aff50b7-9025-4dbf-b8dc-7bec969b5977"
      },
      "outputs": [
        {
          "name": "stdout",
          "output_type": "stream",
          "text": [
            "2023 Toyota Camry\n",
            "2023 Honda Camry\n"
          ]
        }
      ],
      "source": [
        "class Car:\n",
        "    def __init__(self, make, model, year):\n",
        "        self.__make = make\n",
        "        self.__model = model\n",
        "        self.__year = year\n",
        "\n",
        "    def get_make(self):\n",
        "        return self.__make\n",
        "\n",
        "    def set_make(self, make):\n",
        "        self.__make = make\n",
        "\n",
        "    def get_description(self):\n",
        "        return f\"{self.__year} {self.__make} {self.__model}\"\n",
        "\n",
        "my_car = Car(\"Toyota\", \"Camry\", 2023)\n",
        "\n",
        "print(my_car.get_description())\n",
        "\n",
        "my_car.set_make(\"Honda\")\n",
        "print(my_car.get_description())"
      ]
    },
    {
      "cell_type": "markdown",
      "metadata": {
        "id": "3a0p1WgqhgbW"
      },
      "source": [
        "45.\tCreate an abstract class Animal with subclasses for Dog and Cat."
      ]
    },
    {
      "cell_type": "code",
      "execution_count": 61,
      "metadata": {
        "colab": {
          "base_uri": "https://localhost:8080/"
        },
        "id": "WpF785EshvM6",
        "outputId": "70e0030f-72c4-4146-a312-a3bd32903814"
      },
      "outputs": [
        {
          "name": "stdout",
          "output_type": "stream",
          "text": [
            "Buddy barks: Woof!\n",
            "Whiskers meows: Meow!\n"
          ]
        }
      ],
      "source": [
        "from abc import ABC, abstractmethod\n",
        "\n",
        "class Animal(ABC):\n",
        "\n",
        "    def __init__(self, name):\n",
        "        self.name = name\n",
        "\n",
        "    @abstractmethod\n",
        "    def make_sound(self):\n",
        "        pass\n",
        "\n",
        "class Dog(Animal):\n",
        "\n",
        "    def make_sound(self):\n",
        "        print(f\"{self.name} barks: Woof!\")\n",
        "\n",
        "class Cat(Animal):\n",
        "\n",
        "    def make_sound(self):\n",
        "        print(f\"{self.name} meows: Meow!\")\n",
        "\n",
        "dog = Dog(\"Buddy\")\n",
        "cat = Cat(\"Whiskers\")\n",
        "\n",
        "dog.make_sound()\n",
        "cat.make_sound()"
      ]
    },
    {
      "cell_type": "markdown",
      "metadata": {
        "id": "jR5KZ5e3h6gq"
      },
      "source": [
        "46.\tImplement a binary search algorithm on a sorted list of numbers."
      ]
    },
    {
      "cell_type": "code",
      "execution_count": 62,
      "metadata": {
        "colab": {
          "base_uri": "https://localhost:8080/"
        },
        "id": "gHPMuJqZiFaW",
        "outputId": "8b7e4fa3-4cd3-4ec9-ae2d-3bb90fc1a23b"
      },
      "outputs": [
        {
          "name": "stdout",
          "output_type": "stream",
          "text": [
            "Target 11 found at index 4\n"
          ]
        }
      ],
      "source": [
        "def binary_search(arr, target):\n",
        "    low = 0\n",
        "    high = len(arr) - 1\n",
        "\n",
        "    while low <= high:\n",
        "        mid = (low + high) // 2\n",
        "\n",
        "        if arr[mid] == target:\n",
        "            return mid\n",
        "        elif arr[mid] < target:\n",
        "            low = mid + 1\n",
        "        else:\n",
        "            high = mid - 1\n",
        "\n",
        "    return -1\n",
        "numbers = [2, 5, 7, 8, 11, 13, 17, 19]\n",
        "target = 11\n",
        "\n",
        "index = binary_search(numbers, target)\n",
        "\n",
        "if index != -1:\n",
        "    print(f\"Target {target} found at index {index}\")\n",
        "else:\n",
        "    print(f\"Target {target} not found in the list\")"
      ]
    },
    {
      "cell_type": "markdown",
      "metadata": {
        "id": "Be52YNreiQxh"
      },
      "source": [
        "47.\tWrite a sorting algorithm (e.g., bubble sort) and test its functionality."
      ]
    },
    {
      "cell_type": "code",
      "execution_count": 63,
      "metadata": {
        "colab": {
          "base_uri": "https://localhost:8080/"
        },
        "id": "w1LDMXwbiXdC",
        "outputId": "11e9bfaa-5e71-4bf6-992d-31e7c251b207"
      },
      "outputs": [
        {
          "name": "stdout",
          "output_type": "stream",
          "text": [
            "Sorted array: [11, 12, 22, 25, 34, 64, 90]\n",
            "Test passed!\n"
          ]
        }
      ],
      "source": [
        "def bubble_sort(arr):\n",
        "    \"Sorts a list using the Bubble Sort algorithm.\"\n",
        "    n = len(arr)\n",
        "    for i in range(n):\n",
        "        swapped = False\n",
        "        for j in range(0, n - i - 1):\n",
        "            if arr[j] > arr[j + 1]:\n",
        "                arr[j], arr[j + 1] = arr[j + 1], arr[j]\n",
        "                swapped = True\n",
        "        if not swapped:\n",
        "            break\n",
        "    return arr\n",
        "\n",
        "numbers = [64, 34, 25, 12, 22, 11, 90]\n",
        "sorted_numbers = bubble_sort(numbers)\n",
        "\n",
        "assert sorted_numbers == [11, 12, 22, 25, 34, 64, 90], \"Bubble sort failed\"\n",
        "\n",
        "print(\"Sorted array:\", sorted_numbers)\n",
        "print(\"Test passed!\")"
      ]
    },
    {
      "cell_type": "markdown",
      "metadata": {
        "id": "tha9bqMKiygS"
      },
      "source": [
        "48.\tCreate a program that utilizes a hashtable to store and retrieve key-value pairs."
      ]
    },
    {
      "cell_type": "code",
      "execution_count": 64,
      "metadata": {
        "colab": {
          "base_uri": "https://localhost:8080/"
        },
        "id": "jUAVn9dEjBPG",
        "outputId": "ae33e05c-8d3e-4b3a-980d-69052edf5605"
      },
      "outputs": [
        {
          "name": "stdout",
          "output_type": "stream",
          "text": [
            "2\n",
            "None\n",
            "True\n",
            "False\n",
            "3\n",
            "{'apple': 1, 'banana': 2, 'orange': 3}\n"
          ]
        }
      ],
      "source": [
        "class Hashtable:\n",
        "\n",
        "    def __init__(self, capacity=10):\n",
        "        self.capacity = capacity\n",
        "        self.table = {}  # Use a dictionary to store key-value pairs\n",
        "\n",
        "    def __setitem__(self, key, value):\n",
        "        self.table[key] = value\n",
        "\n",
        "    def __getitem__(self, key):\n",
        "        return self.table.get(key, None)  # Return None if key is not found\n",
        "\n",
        "    def __contains__(self, key):\n",
        "        return key in self.table\n",
        "\n",
        "    def __len__(self):\n",
        "        return len(self.table)\n",
        "\n",
        "    def __str__(self):\n",
        "        return str(self.table)\n",
        "\n",
        "hashtable = Hashtable()\n",
        "\n",
        "hashtable[\"apple\"] = 1\n",
        "hashtable[\"banana\"] = 2\n",
        "hashtable[\"orange\"] = 3\n",
        "\n",
        "print(hashtable[\"banana\"])  # Output: 2\n",
        "print(hashtable[\"grape\"])  # Output: None (key not found)\n",
        "\n",
        "print(\"apple\" in hashtable)  # Output: True\n",
        "print(\"grape\" in hashtable)  # Output: False\n",
        "\n",
        "print(len(hashtable))  # Output: 3\n",
        "\n",
        "print(hashtable)  # Output: {'apple': 1, 'banana': 2, 'orange': 3}"
      ]
    },
    {
      "cell_type": "markdown",
      "metadata": {
        "id": "AvGzoGbbjLVm"
      },
      "source": [
        "49.\tDevelop a function that sorts a list of dictionaries based on the values of a specific key."
      ]
    },
    {
      "cell_type": "code",
      "execution_count": 65,
      "metadata": {
        "colab": {
          "base_uri": "https://localhost:8080/"
        },
        "id": "vz-mxV1mjVha",
        "outputId": "56d4b781-4682-45a8-c5fb-d45f5adf1965"
      },
      "outputs": [
        {
          "name": "stdout",
          "output_type": "stream",
          "text": [
            "Sorted by age (ascending): [{'name': 'piyush', 'age': 19}, {'name': 'pooja', 'age': 19}, {'name': 'aashi', 'age': 20}]\n",
            "Sorted by age (descending): [{'name': 'aashi', 'age': 20}, {'name': 'piyush', 'age': 19}, {'name': 'pooja', 'age': 19}]\n",
            "Sorted by name: [{'name': 'aashi', 'age': 20}, {'name': 'piyush', 'age': 19}, {'name': 'pooja', 'age': 19}]\n"
          ]
        }
      ],
      "source": [
        "def sort_dictionaries_by_key(list_of_dicts, key, reverse=False):\n",
        "\n",
        "    return sorted(list_of_dicts, key=lambda item: item[key], reverse=reverse)\n",
        "\n",
        "# Example usage\n",
        "data = [\n",
        "    {'name': 'piyush', 'age': 19},\n",
        "    {'name': 'pooja', 'age': 19},\n",
        "    {'name': 'aashi', 'age': 20},\n",
        "]\n",
        "\n",
        "sorted_by_age_asc = sort_dictionaries_by_key(data, 'age')\n",
        "print(\"Sorted by age (ascending):\", sorted_by_age_asc)\n",
        "\n",
        "sorted_by_age_desc = sort_dictionaries_by_key(data, 'age', reverse=True)\n",
        "print(\"Sorted by age (descending):\", sorted_by_age_desc)\n",
        "\n",
        "sorted_by_name = sort_dictionaries_by_key(data, 'name')\n",
        "print(\"Sorted by name:\", sorted_by_name)"
      ]
    },
    {
      "cell_type": "markdown",
      "metadata": {
        "id": "kGpgXrQSjqNd"
      },
      "source": [
        "50.\tWrite a program that implements a breadth-first search for a graph structure."
      ]
    },
    {
      "cell_type": "code",
      "execution_count": 66,
      "metadata": {
        "colab": {
          "base_uri": "https://localhost:8080/"
        },
        "id": "0TFfLEMrjy6P",
        "outputId": "b23259e8-7072-4305-8e6e-64b90986728e"
      },
      "outputs": [
        {
          "name": "stdout",
          "output_type": "stream",
          "text": [
            "Breadth-First Search Traversal: ['A', 'B', 'C', 'D', 'E', 'F']\n"
          ]
        }
      ],
      "source": [
        "from collections import deque\n",
        "\n",
        "def breadth_first_search(graph, start_node):\n",
        "    visited = set()  # Keep track of visited nodes\n",
        "    queue = deque([start_node])  # Initialize the queue with the starting node\n",
        "    traversal_order = []  # Store the order of visited nodes\n",
        "\n",
        "    while queue:\n",
        "        node = queue.popleft()  # Get the next node from the queue\n",
        "\n",
        "        if node not in visited:\n",
        "            visited.add(node)\n",
        "            traversal_order.append(node)\n",
        "\n",
        "            queue.extend(neighbor for neighbor in graph[node] if neighbor not in visited)\n",
        "\n",
        "    return traversal_order\n",
        "graph = {\n",
        "    'A': ['B', 'C'],\n",
        "    'B': ['A', 'D', 'E'],\n",
        "    'C': ['A', 'F'],\n",
        "    'D': ['B'],\n",
        "    'E': ['B', 'F'],\n",
        "    'F': ['C', 'E']\n",
        "}\n",
        "\n",
        "traversal = breadth_first_search(graph, 'A')\n",
        "\n",
        "print(\"Breadth-First Search Traversal:\", traversal)"
      ]
    },
    {
      "cell_type": "markdown",
      "metadata": {
        "id": "30BxZuNtj7kn"
      },
      "source": [
        "51.\tUse Matplotlib to plot a simple line graph representing a mathematical function."
      ]
    },
    {
      "cell_type": "code",
      "execution_count": 68,
      "metadata": {
        "colab": {
          "base_uri": "https://localhost:8080/",
          "height": 472
        },
        "id": "7b8EEJVHkDOD",
        "outputId": "0699007f-d389-452b-c17c-f96912c1ff82"
      },
      "outputs": [
        {
          "data": {
            "image/png": "[encoded data removed]",
            "text/plain": [
              "<Figure size 640x480 with 1 Axes>"
            ]
          },
          "metadata": {},
          "output_type": "display_data"
        }
      ],
      "source": [
        "import matplotlib.pyplot as plt\n",
        "import numpy as np\n",
        "\n",
        "def my_function(x):\n",
        "    return x**2 + 2*x + 1  # Example: x^2 + 2x + 1\n",
        "\n",
        "x = np.linspace(-5, 5, 100)  # Create 100 evenly spaced points between -5 and 5\n",
        "\n",
        "y = my_function(x)\n",
        "\n",
        "# Create the plot\n",
        "plt.plot(x, y)\n",
        "\n",
        "# Add labels and title\n",
        "plt.xlabel(\"x\")\n",
        "plt.ylabel(\"y\")\n",
        "plt.title(\"Graph of y = x^2 + 2x + 1\")\n",
        "\n",
        "# Display the plot\n",
        "plt.show()"
      ]
    },
    {
      "cell_type": "markdown",
      "metadata": {
        "id": "1UgYj72kkPbU"
      },
      "source": [
        "52.\tCreate a program that plots a scatter plot for random data points."
      ]
    },
    {
      "cell_type": "code",
      "execution_count": 73,
      "metadata": {
        "colab": {
          "base_uri": "https://localhost:8080/",
          "height": 472
        },
        "id": "fLbemn7Ukejw",
        "outputId": "c73e4da5-8879-48b3-fad9-35a2156ca181"
      },
      "outputs": [
        {
          "data": {
            "image/png": "[encoded data removed]",
            "text/plain": [
              "<Figure size 640x480 with 1 Axes>"
            ]
          },
          "metadata": {},
          "output_type": "display_data"
        }
      ],
      "source": [
        "import matplotlib.pyplot as plt\n",
        "import numpy as np\n",
        "num_points = 100\n",
        "x = np.random.rand(num_points)\n",
        "y = np.random.rand(num_points)\n",
        "plt.scatter(x, y, marker='o', color='red', label='Random Data')\n",
        "plt.xlabel(\"X-axis\")\n",
        "plt.ylabel(\"Y-axis\")\n",
        "plt.title(\"Scatter Plot of Random Data Points\")\n",
        "plt.show()"
      ]
    },
    {
      "cell_type": "markdown",
      "metadata": {
        "id": "lVqcw64Fk-YZ"
      },
      "source": [
        "53.\tImplement a bar chart visualizing sales data over a month."
      ]
    },
    {
      "cell_type": "code",
      "execution_count": 75,
      "metadata": {
        "colab": {
          "base_uri": "https://localhost:8080/",
          "height": 488
        },
        "id": "_tFXbC5QlHvH",
        "outputId": "fa72ab2d-b614-4358-9e4f-e7896b7a757d"
      },
      "outputs": [
        {
          "data": {
            "image/png": "[encoded data removed]",
            "text/plain": [
              "<Figure size 640x480 with 1 Axes>"
            ]
          },
          "metadata": {},
          "output_type": "display_data"
        }
      ],
      "source": [
        "import matplotlib.pyplot as plt\n",
        "import numpy as np\n",
        "months = ['Jan', 'Feb', 'Mar', 'Apr', 'May', 'Jun', 'Jul', 'Aug', 'Sep', 'Oct', 'Nov', 'Dec']\n",
        "sales = [1500, 1800, 1600, 2000, 2200, 2500, 2300, 2100, 1900, 2400, 2600, 2800]\n",
        "\n",
        "plt.bar(months, sales, color='orange', label='Monthly Sales')\n",
        "\n",
        "plt.xlabel(\"Month\")\n",
        "plt.ylabel(\"Sales\")\n",
        "plt.title(\"monthly sales\")\n",
        "\n",
        "plt.xticks(rotation=45, ha='right')  # Rotate 45 degrees and align to the right\n",
        "\n",
        "plt.legend()\n",
        "\n",
        "plt.show()"
      ]
    },
    {
      "cell_type": "markdown",
      "metadata": {
        "id": "QQDzCf5xlhNU"
      },
      "source": [
        "54.\tWrite a program that demonstrates plotting the Fibonacci sequence with PyLab."
      ]
    },
    {
      "cell_type": "code",
      "execution_count": 76,
      "metadata": {
        "colab": {
          "base_uri": "https://localhost:8080/",
          "height": 472
        },
        "id": "7X44TDYVlpot",
        "outputId": "14295215-7855-462a-c8fb-447997791942"
      },
      "outputs": [
        {
          "data": {
            "image/png": "[encoded data removed]",
            "text/plain": [
              "<Figure size 640x480 with 1 Axes>"
            ]
          },
          "metadata": {},
          "output_type": "display_data"
        }
      ],
      "source": [
        "from matplotlib import pylab as plt\n",
        "import numpy as np\n",
        "\n",
        "def fibonacci(n):\n",
        "    fib_sequence = [0, 1]\n",
        "    while len(fib_sequence) < n:\n",
        "        next_fib = fib_sequence[-1] + fib_sequence[-2]\n",
        "        fib_sequence.append(next_fib)\n",
        "    return fib_sequence\n",
        "\n",
        "num_terms = 10\n",
        "fib_numbers = fibonacci(num_terms)\n",
        "\n",
        "x = np.arange(num_terms)\n",
        "\n",
        "plt.plot(x, fib_numbers, marker='o', linestyle='-', color='blue', label='Fibonacci Sequence')\n",
        "plt.xlabel(\"Term Number\")\n",
        "plt.ylabel(\"Fibonacci Number\")\n",
        "plt.title(\"Fibonacci Sequence\")\n",
        "\n",
        "plt.grid(True)\n",
        "\n",
        "plt.legend()\n",
        "\n",
        "plt.show()"
      ]
    },
    {
      "cell_type": "markdown",
      "metadata": {
        "id": "tETxmwbRlyu3"
      },
      "source": [
        "55.\tCreate a function that plots the trajectory of a projectile motion."
      ]
    },
    {
      "cell_type": "code",
      "execution_count": 77,
      "metadata": {
        "colab": {
          "base_uri": "https://localhost:8080/",
          "height": 472
        },
        "id": "xEd6SzGPl8W1",
        "outputId": "d9c2e8a9-b770-4279-88f6-0abc84165f41"
      },
      "outputs": [
        {
          "data": {
            "image/png": "[encoded data removed]",
            "text/plain": [
              "<Figure size 640x480 with 1 Axes>"
            ]
          },
          "metadata": {},
          "output_type": "display_data"
        }
      ],
      "source": [
        "import matplotlib.pyplot as plt\n",
        "import numpy as np\n",
        "\n",
        "def plot_projectile_trajectory(initial_velocity, launch_angle_degrees, gravity=9.8):\n",
        "\n",
        "    launch_angle_radians = np.radians(launch_angle_degrees)\n",
        "\n",
        "    time_of_flight = (2 * initial_velocity * np.sin(launch_angle_radians)) / gravity\n",
        "\n",
        "    t = np.linspace(0, time_of_flight, 100)\n",
        "\n",
        "    x = initial_velocity * np.cos(launch_angle_radians) * t\n",
        "    y = initial_velocity * np.sin(launch_angle_radians) * t - (0.5 * gravity * t**2)\n",
        "\n",
        "    plt.plot(x, y)\n",
        "\n",
        "    plt.xlabel(\"Horizontal Distance (m)\")\n",
        "    plt.ylabel(\"Vertical Distance (m)\")\n",
        "    plt.title(\"Projectile Trajectory\")\n",
        "\n",
        "    plt.xlim(0, np.max(x))\n",
        "    plt.ylim(0, np.max(y))\n",
        "\n",
        "    plt.show()\n",
        "\n",
        "plot_projectile_trajectory(initial_velocity=20, launch_angle_degrees=45)"
      ]
    },
    {
      "cell_type": "markdown",
      "metadata": {
        "id": "9vrYM8mumNQS"
      },
      "source": [
        "56.\tImplement the 0/1 knapsack algorithm to solve a simple problem."
      ]
    },
    {
      "cell_type": "code",
      "execution_count": 78,
      "metadata": {
        "colab": {
          "base_uri": "https://localhost:8080/"
        },
        "id": "uIY1W3NDmX0D",
        "outputId": "ef063258-a5f0-4099-8f2f-8e26e3b8f452"
      },
      "outputs": [
        {
          "name": "stdout",
          "output_type": "stream",
          "text": [
            "Maximum value: 220\n"
          ]
        }
      ],
      "source": [
        "def knapsack_01(weights, values, capacity):\n",
        "    n = len(weights)\n",
        "    table = [[0 for _ in range(capacity + 1)] for _ in range(n + 1)]\n",
        "    for i in range(n + 1):\n",
        "        for w in range(capacity + 1):\n",
        "            if i == 0 or w == 0:\n",
        "                table[i][w] = 0\n",
        "            elif weights[i - 1] <= w:\n",
        "                table[i][w] = max(values[i - 1] + table[i - 1][w - weights[i - 1]], table[i - 1][w])\n",
        "            else:\n",
        "                table[i][w] = table[i - 1][w]\n",
        "    return table[n][capacity]\n",
        "\n",
        "weights = [10, 20, 30]\n",
        "values = [60, 100, 120]\n",
        "capacity = 50\n",
        "\n",
        "max_value = knapsack_01(weights, values, capacity)\n",
        "print(\"Maximum value:\", max_value)"
      ]
    },
    {
      "cell_type": "markdown",
      "metadata": {
        "id": "SAHhDauVmcRh"
      },
      "source": [
        "57.\tWrite a dynamic programming solution for finding the longest common subsequence."
      ]
    },
    {
      "cell_type": "code",
      "execution_count": 81,
      "metadata": {
        "colab": {
          "base_uri": "https://localhost:8080/"
        },
        "id": "PGV1JZjhmnf3",
        "outputId": "4239c452-c80b-4ae2-cafc-b06dbcb16530"
      },
      "outputs": [
        {
          "name": "stdout",
          "output_type": "stream",
          "text": [
            "Longest Common Subsequence: PUHAR\n"
          ]
        }
      ],
      "source": [
        "def longest_common_subsequence(str1, str2):\n",
        "\n",
        "    n = len(str1)\n",
        "    m = len(str2)\n",
        "\n",
        "    dp = [[0] * (m + 1) for _ in range(n + 1)]\n",
        "\n",
        "    for i in range(1, n + 1):\n",
        "        for j in range(1, m + 1):\n",
        "            if str1[i - 1] == str2[j - 1]:\n",
        "                dp[i][j] = dp[i - 1][j - 1] + 1\n",
        "            else:\n",
        "                dp[i][j] = max(dp[i - 1][j], dp[i][j - 1])\n",
        "\n",
        "\n",
        "    i = n\n",
        "    j = m\n",
        "    lcs = \"\"\n",
        "    while i > 0 and j > 0:\n",
        "        if str1[i - 1] == str2[j - 1]:\n",
        "            lcs = str1[i - 1] + lcs\n",
        "            i -= 1\n",
        "            j -= 1\n",
        "        else:\n",
        "            if dp[i - 1][j] > dp[i][j - 1]:\n",
        "                i -= 1\n",
        "            else:\n",
        "                j -= 1\n",
        "\n",
        "    return lcs\n",
        "\n",
        "# Example usage\n",
        "string1 = \"PIYUSHNAGAR\"\n",
        "string2 = \"POOJACHOUDHARY\"\n",
        "\n",
        "lcs = longest_common_subsequence(string1, string2)\n",
        "print(\"Longest Common Subsequence:\", lcs)"
      ]
    },
    {
      "cell_type": "markdown",
      "metadata": {
        "id": "_fHALBxEm3QX"
      },
      "source": [
        "58.\tCreate a program to visualize dynamic programming approaches for the Fibonacci sequence."
      ]
    },
    {
      "cell_type": "code",
      "execution_count": 80,
      "metadata": {
        "colab": {
          "base_uri": "https://localhost:8080/",
          "height": 472
        },
        "id": "8zziA3A6m7cW",
        "outputId": "3727b4c6-9bdb-420b-a49d-3c5b1cfa8d58"
      },
      "outputs": [
        {
          "data": {
            "image/png": "[encoded data removed]",
            "text/plain": [
              "<Figure size 640x480 with 1 Axes>"
            ]
          },
          "metadata": {},
          "output_type": "display_data"
        }
      ],
      "source": [
        "import matplotlib.pyplot as plt\n",
        "import numpy as np\n",
        "\n",
        "def fibonacci_recursive(n):\n",
        "    if n <= 1:\n",
        "        return n\n",
        "    return fibonacci_recursive(n - 1) + fibonacci_recursive(n - 2)\n",
        "\n",
        "def fibonacci_dp(n):\n",
        "    fib = [0, 1]\n",
        "    for i in range(2, n + 1):\n",
        "        fib.append(fib[i - 1] + fib[i - 2])\n",
        "    return fib[n]\n",
        "\n",
        "num_terms = 10\n",
        "recursive_times = []\n",
        "dp_times = []\n",
        "\n",
        "for i in range(num_terms):\n",
        "    import time\n",
        "    start_time = time.time()\n",
        "    fibonacci_recursive(i)\n",
        "    recursive_times.append(time.time() - start_time)\n",
        "\n",
        "    start_time = time.time()\n",
        "    fibonacci_dp(i)\n",
        "    dp_times.append(time.time() - start_time)\n",
        "\n",
        "x = np.arange(num_terms)\n",
        "plt.plot(x, recursive_times, label='Recursive')\n",
        "plt.plot(x, dp_times, label='Dynamic Programming')\n",
        "plt.xlabel('Term Number')\n",
        "plt.ylabel('Execution Time (seconds)')\n",
        "plt.title('Fibonacci Sequence Execution Time Comparison')\n",
        "plt.legend()\n",
        "plt.show()"
      ]
    },
    {
      "cell_type": "markdown",
      "metadata": {
        "id": "pVRfzVcWnO9A"
      },
      "source": [
        "59.\tDevelop a divide-and-conquer algorithm to sort an array."
      ]
    },
    {
      "cell_type": "code",
      "execution_count": 85,
      "metadata": {
        "colab": {
          "base_uri": "https://localhost:8080/"
        },
        "id": "T09Jh1zsnZew",
        "outputId": "d0f93152-b53a-415f-ebf2-52661682bc46"
      },
      "outputs": [
        {
          "name": "stdout",
          "output_type": "stream",
          "text": [
            "Sorted array: [0, 2, 2, 2, 3, 4, 6, 63]\n"
          ]
        }
      ],
      "source": [
        "def merge_sort(arr):\n",
        "    if len(arr) > 1:\n",
        "        mid = len(arr) // 2\n",
        "        left_half = arr[:mid]\n",
        "        right_half = arr[mid:]\n",
        "\n",
        "        merge_sort(left_half)\n",
        "        merge_sort(right_half)\n",
        "\n",
        "        i = j = k = 0\n",
        "        while i < len(left_half) and j < len(right_half):\n",
        "            if left_half[i] < right_half[j]:\n",
        "                arr[k] = left_half[i]\n",
        "                i += 1\n",
        "            else:\n",
        "                arr[k] = right_half[j]\n",
        "                j += 1\n",
        "            k += 1\n",
        "\n",
        "        while i < len(left_half):\n",
        "            arr[k] = left_half[i]\n",
        "            i += 1\n",
        "            k += 1\n",
        "\n",
        "        while j < len(right_half):\n",
        "            arr[k] = right_half[j]\n",
        "            j += 1\n",
        "            k += 1\n",
        "    return arr\n",
        "\n",
        "numbers = [3, 6, 2, 63, 0, 2, 2, 4]\n",
        "sorted_numbers = merge_sort(numbers)\n",
        "print(\"Sorted array:\", sorted_numbers)"
      ]
    },
    {
      "cell_type": "markdown",
      "metadata": {
        "id": "7wjJhpjxnsfM"
      },
      "source": [
        "60.\tWrite a Python function that uses memoization to optimize a recursive problem."
      ]
    },
    {
      "cell_type": "code",
      "execution_count": 87,
      "metadata": {
        "colab": {
          "base_uri": "https://localhost:8080/"
        },
        "id": "51nJgXIjn8Ef",
        "outputId": "dd001f25-f52f-458b-fb0c-41f0de32dcaa"
      },
      "outputs": [
        {
          "name": "stdout",
          "output_type": "stream",
          "text": [
            "55\n",
            "5\n"
          ]
        }
      ],
      "source": [
        "def fibonacci_memoization(n, memo={}):\n",
        "    if n in memo:\n",
        "        return memo[n]\n",
        "    if n <= 1:\n",
        "        return n\n",
        "\n",
        "    memo[n] = fibonacci_memoization(n - 1, memo) + fibonacci_memoization(n - 2, memo)\n",
        "    return memo[n]\n",
        "\n",
        "print(fibonacci_memoization(10))\n",
        "print(fibonacci_memoization(5))"
      ]
    },
    {
      "cell_type": "markdown",
      "metadata": {
        "id": "tRRNgYf3oEnk"
      },
      "source": [
        "61.\tCreate an application that manages a library system with classes for Book and Library."
      ]
    },
    {
      "cell_type": "code",
      "execution_count": 90,
      "metadata": {
        "colab": {
          "base_uri": "https://localhost:8080/"
        },
        "id": "5BvYjTCToODV",
        "outputId": "fabce2f3-7ecc-421e-cc62-b891c00da8f9"
      },
      "outputs": [
        {
          "name": "stdout",
          "output_type": "stream",
          "text": [
            "Book 'The Lord of the Rings' added to the library.\n",
            "Book 'The Hitchhiker's Guide to the Galaxy' added to the library.\n",
            "Book 'The Lord of the Rings' borrowed.\n",
            "Library Books:\n",
            "Title: The Lord of the Rings, Author: J.R.R. Tolkien, ISBN: 9780547928227, Borrowed: True\n",
            "Title: The Hitchhiker's Guide to the Galaxy, Author: Douglas Adams, ISBN: 9780345391803, Borrowed: False\n",
            "Book 'The Lord of the Rings' returned.\n",
            "Library Books:\n",
            "Title: The Lord of the Rings, Author: J.R.R. Tolkien, ISBN: 9780547928227, Borrowed: False\n",
            "Title: The Hitchhiker's Guide to the Galaxy, Author: Douglas Adams, ISBN: 9780345391803, Borrowed: False\n"
          ]
        }
      ],
      "source": [
        "class Book:\n",
        "    def __init__(self, title, author, isbn):\n",
        "        self.title = title\n",
        "        self.author = author\n",
        "        self.isbn = isbn\n",
        "        self.is_borrowed = False\n",
        "\n",
        "    def __str__(self):\n",
        "        return f\"Title: {self.title}, Author: {self.author}, ISBN: {self.isbn}, Borrowed: {self.is_borrowed}\"\n",
        "\n",
        "class Library:\n",
        "    def __init__(self):\n",
        "        self.books = []\n",
        "\n",
        "    def add_book(self, book):\n",
        "        self.books.append(book)\n",
        "        print(f\"Book '{book.title}' added to the library.\")\n",
        "\n",
        "    def borrow_book(self, isbn):\n",
        "        for book in self.books:\n",
        "            if book.isbn == isbn and not book.is_borrowed:\n",
        "                book.is_borrowed = True\n",
        "                print(f\"Book '{book.title}' borrowed.\")\n",
        "                return\n",
        "        print(f\"Book with ISBN '{isbn}' not found or already borrowed.\")\n",
        "\n",
        "    def return_book(self, isbn):\n",
        "        for book in self.books:\n",
        "            if book.isbn == isbn and book.is_borrowed:\n",
        "                book.is_borrowed = False\n",
        "                print(f\"Book '{book.title}' returned.\")\n",
        "                return\n",
        "        print(f\"Book with ISBN '{isbn}' not found or not borrowed.\")\n",
        "\n",
        "    def display_books(self):\n",
        "        print(\"Library Books:\")\n",
        "        for book in self.books:\n",
        "            print(book)\n",
        "\n",
        "library = Library()\n",
        "\n",
        "book1 = Book(\"The Lord of the Rings\", \"J.R.R. Tolkien\", \"9780547928227\")\n",
        "book2 = Book(\"The Hitchhiker's Guide to the Galaxy\", \"Douglas Adams\", \"9780345391803\")\n",
        "\n",
        "library.add_book(book1)\n",
        "library.add_book(book2)\n",
        "\n",
        "library.borrow_book(\"9780547928227\")\n",
        "library.display_books()\n",
        "\n",
        "library.return_book(\"9780547928227\")\n",
        "library.display_books()"
      ]
    },
    {
      "cell_type": "markdown",
      "metadata": {
        "id": "bzrYzBp7oaRv"
      },
      "source": [
        " 62.\tImplement a simple game (e.g., Guess the Number) using branching and loops."
      ]
    },
    {
      "cell_type": "code",
      "execution_count": 91,
      "metadata": {
        "colab": {
          "base_uri": "https://localhost:8080/"
        },
        "id": "UvgZqygpouBU",
        "outputId": "f758a2b8-cb46-4f3d-93b2-0895dd0f38db"
      },
      "outputs": [
        {
          "name": "stdout",
          "output_type": "stream",
          "text": [
            "Welcome to Guess the Number!\n",
            "I'm thinking of a number between 1 and 100.\n",
            "You have 7 guesses left.\n",
            "Take a guess: 35\n",
            "Too low!\n",
            "You have 6 guesses left.\n",
            "Take a guess: 60\n",
            "Too high!\n",
            "You have 5 guesses left.\n",
            "Take a guess: 44\n",
            "Too low!\n",
            "You have 4 guesses left.\n",
            "Take a guess: 49\n",
            "Too high!\n",
            "You have 3 guesses left.\n",
            "Take a guess: 46\n",
            "Too high!\n",
            "You have 2 guesses left.\n",
            "Take a guess: 47\n",
            "Too high!\n",
            "You have 1 guesses left.\n",
            "Take a guess: 45\n",
            "Congratulations! You guessed the number in 6 tries.\n"
          ]
        }
      ],
      "source": [
        "import random\n",
        "\n",
        "def guess_the_number():\n",
        "    secret_number = random.randint(1, 100)\n",
        "    guesses_left = 7\n",
        "\n",
        "    print(\"Welcome to Guess the Number!\")\n",
        "    print(\"I'm thinking of a number between 1 and 100.\")\n",
        "\n",
        "    while guesses_left > 0:\n",
        "        print(f\"You have {guesses_left} guesses left.\")\n",
        "        try:\n",
        "            guess = int(input(\"Take a guess: \"))\n",
        "        except ValueError:\n",
        "            print(\"Invalid input. Please enter a number.\")\n",
        "            continue\n",
        "\n",
        "        if guess < secret_number:\n",
        "            print(\"Too low!\")\n",
        "        elif guess > secret_number:\n",
        "            print(\"Too high!\")\n",
        "        else:\n",
        "            print(f\"Congratulations! You guessed the number in {7 - guesses_left} tries.\")\n",
        "            return\n",
        "\n",
        "        guesses_left -= 1\n",
        "\n",
        "    print(f\"Sorry, you ran out of guesses. The number was {secret_number}.\")\n",
        "\n",
        "if __name__ == \"__main__\":\n",
        "    guess_the_number()"
      ]
    },
    {
      "cell_type": "markdown",
      "metadata": {
        "id": "BPtjxfKdpDFY"
      },
      "source": [
        "63.\tWrite a Python program that scrapes data from a website and processes it."
      ]
    },
    {
      "cell_type": "code",
      "execution_count": 94,
      "metadata": {
        "colab": {
          "base_uri": "https://localhost:8080/"
        },
        "id": "1nNfSWKYpL6W",
        "outputId": "c4289673-73d4-4a84-b55a-7fe9c3f5f69b"
      },
      "outputs": [
        {
          "name": "stdout",
          "output_type": "stream",
          "text": [
            "Error: 404 Client Error: Not Found for url: https://www.example.com/books\n"
          ]
        }
      ],
      "source": [
        "import requests\n",
        "from bs4 import BeautifulSoup\n",
        "\n",
        "def scrape_and_process_data(url):\n",
        "    \"Scrapes data from a website and processes it.\"\n",
        "    try:\n",
        "        response = requests.get(url)\n",
        "        response.raise_for_status()\n",
        "\n",
        "        soup = BeautifulSoup(response.content, \"html.parser\")\n",
        "\n",
        "        book_titles = [book.text for book in soup.find_all(\"h2\", class_=\"book-title\")]\n",
        "        print(\"Book Titles:\")\n",
        "        for title in book_titles:\n",
        "            print(title)\n",
        "\n",
        "    except requests.exceptions.RequestException as e:\n",
        "        print(f\"Error: {e}\")\n",
        "\n",
        "url = \"https://www.example.com/books\"\n",
        "scrape_and_process_data(url)"
      ]
    },
    {
      "cell_type": "markdown",
      "metadata": {
        "id": "0FrEu-Mqpgxq"
      },
      "source": [
        "64.\tDevelop a weather application that retrieves data from an API and displays it using plots."
      ]
    },
    {
      "cell_type": "code",
      "execution_count": 95,
      "metadata": {
        "colab": {
          "base_uri": "https://localhost:8080/"
        },
        "id": "wLP2CviLpv_m",
        "outputId": "1599ecd7-a2b1-4c1b-c25a-384582495a61"
      },
      "outputs": [
        {
          "name": "stdout",
          "output_type": "stream",
          "text": [
            "Error fetching weather data: 401 Client Error: Unauthorized for url: https://api.openweathermap.org/data/2.5/weather?q=London&appid=YOUR_API_KEY&units=metric\n"
          ]
        }
      ],
      "source": [
        "!pip install requests matplotlib --quiet\n",
        "\n",
        "import requests\n",
        "import matplotlib.pyplot as plt\n",
        "\n",
        "def get_weather_data(api_key, location):\n",
        "  base_url = \"https://api.openweathermap.org/data/2.5/weather\"\n",
        "  params = {\n",
        "      \"q\": location,\n",
        "      \"appid\": api_key,\n",
        "      \"units\": \"metric\"\n",
        "  }\n",
        "\n",
        "  try:\n",
        "    response = requests.get(base_url, params=params)\n",
        "    response.raise_for_status()\n",
        "    data = response.json()\n",
        "    return data\n",
        "\n",
        "  except requests.exceptions.RequestException as e:\n",
        "    print(f\"Error fetching weather data: {e}\")\n",
        "    return None\n",
        "\n",
        "def display_weather_plot(weather_data):\n",
        "\n",
        "  if weather_data:\n",
        "    temperature = weather_data[\"main\"][\"temp\"]\n",
        "    humidity = weather_data[\"main\"][\"humidity\"]\n",
        "    wind_speed = weather_data[\"wind\"][\"speed\"]\n",
        "\n",
        "    # Create a bar plot\n",
        "    labels = [\"Temperature (°C)\", \"Humidity (%)\", \"Wind Speed (m/s)\"]\n",
        "    values = [temperature, humidity, wind_speed]\n",
        "\n",
        "    plt.figure(figsize=(8, 6))\n",
        "    plt.bar(labels, values, color=['red', 'blue', 'green'])\n",
        "    plt.title(f\"Weather in {weather_data['name']}\")\n",
        "    plt.ylabel(\"Values\")\n",
        "    plt.show()\n",
        "\n",
        "# Example usage:\n",
        "api_key = \"YOUR_API_KEY\"\n",
        "location = \"London\"\n",
        "\n",
        "weather_data = get_weather_data(api_key, location)\n",
        "display_weather_plot(weather_data)"
      ]
    },
    {
      "cell_type": "markdown",
      "metadata": {
        "id": "G68qdh7mqANI"
      },
      "source": [
        "65.\tCreate a ToDo application using classes and file handling to save tasks."
      ]
    },
    {
      "cell_type": "code",
      "execution_count": 96,
      "metadata": {
        "colab": {
          "base_uri": "https://localhost:8080/"
        },
        "id": "gVpMK6urqQtU",
        "outputId": "dd91818b-51d3-4d6c-e433-4d6fe45690ee"
      },
      "outputs": [
        {
          "name": "stdout",
          "output_type": "stream",
          "text": [
            "\n",
            "Choose an action:\n",
            "1. Add task\n",
            "2. Complete task\n",
            "3. Remove task\n",
            "4. Display tasks\n",
            "5. Exit\n",
            "> 1\n",
            "Enter task: pouy\n",
            "\n",
            "Choose an action:\n",
            "1. Add task\n",
            "2. Complete task\n",
            "3. Remove task\n",
            "4. Display tasks\n",
            "5. Exit\n",
            "> 4\n",
            "1. [ ] pouy\n",
            "\n",
            "Choose an action:\n",
            "1. Add task\n",
            "2. Complete task\n",
            "3. Remove task\n",
            "4. Display tasks\n",
            "5. Exit\n",
            "> 5\n"
          ]
        }
      ],
      "source": [
        "import json\n",
        "\n",
        "class ToDoItem:\n",
        "    def __init__(self, task, completed=False):\n",
        "        self.task = task\n",
        "        self.completed = completed\n",
        "\n",
        "    def __str__(self):\n",
        "        return f\"[{'x' if self.completed else ' '}] {self.task}\"\n",
        "\n",
        "class ToDoList:\n",
        "    def __init__(self, filename=\"todo.json\"):\n",
        "        self.filename = filename\n",
        "        self.tasks = self.load_tasks()\n",
        "\n",
        "    def load_tasks(self):\n",
        "        try:\n",
        "            with open(self.filename, \"r\") as f:\n",
        "                return [ToDoItem(**task) for task in json.load(f)]\n",
        "        except FileNotFoundError:\n",
        "            return []\n",
        "\n",
        "    def save_tasks(self):\n",
        "        with open(self.filename, \"w\") as f:\n",
        "            json.dump([task.__dict__ for task in self.tasks], f, indent=4)\n",
        "\n",
        "    def add_task(self, task):\n",
        "        self.tasks.append(ToDoItem(task))\n",
        "        self.save_tasks()\n",
        "\n",
        "    def complete_task(self, index):\n",
        "        if 0 <= index < len(self.tasks):\n",
        "            self.tasks[index].completed = True\n",
        "            self.save_tasks()\n",
        "\n",
        "    def remove_task(self, index):\n",
        "        if 0 <= index < len(self.tasks):\n",
        "            del self.tasks[index]\n",
        "            self.save_tasks()\n",
        "\n",
        "    def display_tasks(self):\n",
        "        if not self.tasks:\n",
        "            print(\"No tasks in the list.\")\n",
        "        else:\n",
        "            for index, task in enumerate(self.tasks):\n",
        "                print(f\"{index + 1}. {task}\")\n",
        "\n",
        "# Example usage:\n",
        "todo_list = ToDoList()\n",
        "\n",
        "while True:\n",
        "    print(\"\\nChoose an action:\")\n",
        "    print(\"1. Add task\")\n",
        "    print(\"2. Complete task\")\n",
        "    print(\"3. Remove task\")\n",
        "    print(\"4. Display tasks\")\n",
        "    print(\"5. Exit\")\n",
        "\n",
        "    choice = input(\"> \")\n",
        "\n",
        "    if choice == \"1\":\n",
        "        task = input(\"Enter task: \")\n",
        "        todo_list.add_task(task)\n",
        "    elif choice == \"2\":\n",
        "        index = int(input(\"Enter task number to complete: \")) - 1\n",
        "        todo_list.complete_task(index)\n",
        "    elif choice == \"3\":\n",
        "        index = int(input(\"Enter task number to remove: \")) - 1\n",
        "        todo_list.remove_task(index)\n",
        "    elif choice == \"4\":\n",
        "        todo_list.display_tasks()\n",
        "    elif choice == \"5\":\n",
        "        break\n",
        "    else:\n",
        "        print(\"Invalid choice.\")"
      ]
    },
    {
      "cell_type": "markdown",
      "metadata": {
        "id": "j_bPBoWUqZXh"
      },
      "source": [
        "66.\tWrite a function that converts a number to its binary string representation."
      ]
    },
    {
      "cell_type": "code",
      "execution_count": 97,
      "metadata": {
        "colab": {
          "base_uri": "https://localhost:8080/"
        },
        "id": "giDvUtqNqgE-",
        "outputId": "7dcfa88a-633c-44ac-f7a0-22176c8581aa"
      },
      "outputs": [
        {
          "name": "stdout",
          "output_type": "stream",
          "text": [
            "The binary representation of 10 is: 1010\n"
          ]
        }
      ],
      "source": [
        "def number_to_binary(number):\n",
        "\n",
        "  if number == 0:\n",
        "    return \"0\"  # Special case for 0\n",
        "\n",
        "  binary_string = \"\"\n",
        "  while number > 0:\n",
        "    binary_string = str(number % 2) + binary_string  # Prepend remainder to string\n",
        "    number //= 2  # Integer division by 2\n",
        "\n",
        "  return binary_string\n",
        "\n",
        "# Example usage:\n",
        "number = 10\n",
        "binary_representation = number_to_binary(number)\n",
        "print(f\"The binary representation of {number} is: {binary_representation}\")"
      ]
    },
    {
      "cell_type": "markdown",
      "metadata": {
        "id": "QoEKc9frqmrH"
      },
      "source": [
        "67.\tCreate a program to generate random passwords with specified complexity."
      ]
    },
    {
      "cell_type": "code",
      "execution_count": 98,
      "metadata": {
        "colab": {
          "base_uri": "https://localhost:8080/"
        },
        "id": "rqnyJOh5qwZb",
        "outputId": "6c50697f-4dfc-4e7c-ea1f-5f47048a2118"
      },
      "outputs": [
        {
          "name": "stdout",
          "output_type": "stream",
          "text": [
            "tU69wrU11KSQWDqu\n"
          ]
        }
      ],
      "source": [
        "import random\n",
        "import string\n",
        "\n",
        "def generate_password(length=12, include_uppercase=True, include_numbers=True, include_symbols=True):\n",
        "\n",
        "\n",
        "  # Define character sets\n",
        "  lowercase_letters = string.ascii_lowercase\n",
        "  uppercase_letters = string.ascii_uppercase if include_uppercase else \"\"\n",
        "  numbers = string.digits if include_numbers else \"\"\n",
        "  symbols = string.punctuation if include_symbols else \"\"\n",
        "\n",
        "  # Combine character sets based on complexity requirements\n",
        "  all_characters = lowercase_letters + uppercase_letters + numbers + symbols\n",
        "\n",
        "  # Generate password\n",
        "  password = ''.join(random.choice(all_characters) for _ in range(length))\n",
        "  return password\n",
        "\n",
        "# Example usage:\n",
        "password = generate_password(length=16, include_symbols=False)\n",
        "print(password)"
      ]
    },
    {
      "cell_type": "markdown",
      "metadata": {
        "id": "i8_pIv-Nq3qJ"
      },
      "source": [
        "68.\tImplement a text-based version of tic-tac-toe."
      ]
    },
    {
      "cell_type": "code",
      "execution_count": 99,
      "metadata": {
        "colab": {
          "base_uri": "https://localhost:8080/"
        },
        "id": "nFMDi1njrOet",
        "outputId": "4d2f6b47-3785-4287-cc7f-bf61576cd641"
      },
      "outputs": [
        {
          "name": "stdout",
          "output_type": "stream",
          "text": [
            "-------------\n",
            "|   |   |   |\n",
            "-------------\n",
            "|   |   |   |\n",
            "-------------\n",
            "|   |   |   |\n",
            "-------------\n",
            "Player X's turn.\n",
            "Enter row (1-3): 4\n",
            "Enter column (1-3): 5\n",
            "Invalid move. Try again.\n",
            "Enter row (1-3): 3\n",
            "Enter column (1-3): 3\n",
            "-------------\n",
            "|   |   |   |\n",
            "-------------\n",
            "|   |   |   |\n",
            "-------------\n",
            "|   |   | X |\n",
            "-------------\n",
            "Player O's turn.\n",
            "Enter row (1-3): 1\n",
            "Enter column (1-3): 1\n",
            "-------------\n",
            "| O |   |   |\n",
            "-------------\n",
            "|   |   |   |\n",
            "-------------\n",
            "|   |   | X |\n",
            "-------------\n",
            "Player X's turn.\n",
            "Enter row (1-3): 3\n",
            "Enter column (1-3): 2\n",
            "-------------\n",
            "| O |   |   |\n",
            "-------------\n",
            "|   |   |   |\n",
            "-------------\n",
            "|   | X | X |\n",
            "-------------\n",
            "Player O's turn.\n",
            "Enter row (1-3): 2\n",
            "Enter column (1-3): 2\n",
            "-------------\n",
            "| O |   |   |\n",
            "-------------\n",
            "|   | O |   |\n",
            "-------------\n",
            "|   | X | X |\n",
            "-------------\n",
            "Player X's turn.\n",
            "Enter row (1-3): 3\n",
            "Enter column (1-3): 1\n",
            "-------------\n",
            "| O |   |   |\n",
            "-------------\n",
            "|   | O |   |\n",
            "-------------\n",
            "| X | X | X |\n",
            "-------------\n",
            "Player X wins!\n"
          ]
        }
      ],
      "source": [
        "def print_board(board):\n",
        "  print(\"-------------\")\n",
        "  for row in board:\n",
        "    print(\"|\", end=\"\")\n",
        "    for cell in row:\n",
        "      print(f\" {cell} |\", end=\"\")\n",
        "    print(\"\\n-------------\")\n",
        "\n",
        "def check_win(board, player):\n",
        "  # Check rows\n",
        "  for row in board:\n",
        "    if all(cell == player for cell in row):\n",
        "      return True\n",
        "\n",
        "  # Check columns\n",
        "  for col in range(3):\n",
        "    if all(board[row][col] == player for row in range(3)):\n",
        "      return True\n",
        "\n",
        "  # Check diagonals\n",
        "  if all(board[i][i] == player for i in range(3)):\n",
        "    return True\n",
        "  if all(board[i][2 - i] == player for i in range(3)):\n",
        "    return True\n",
        "\n",
        "  return False\n",
        "\n",
        "def is_board_full(board):\n",
        "  for row in board:\n",
        "    if any(cell == ' ' for cell in row):\n",
        "      return False\n",
        "  return True\n",
        "\n",
        "def play_tic_tac_toe():\n",
        "  \"\"\"Plays a game of tic-tac-toe.\"\"\"\n",
        "  board = [[' ' for _ in range(3)] for _ in range(3)]\n",
        "  current_player = 'X'\n",
        "\n",
        "  while True:\n",
        "    print_board(board)\n",
        "    print(f\"Player {current_player}'s turn.\")\n",
        "\n",
        "    while True:\n",
        "      try:\n",
        "        row = int(input(\"Enter row (1-3): \")) - 1\n",
        "        col = int(input(\"Enter column (1-3): \")) - 1\n",
        "        if 0 <= row < 3 and 0 <= col < 3 and board[row][col] == ' ':\n",
        "          break\n",
        "        else:\n",
        "          print(\"Invalid move. Try again.\")\n",
        "      except ValueError:\n",
        "        print(\"Invalid input. Please enter numbers.\")\n",
        "\n",
        "    board[row][col] = current_player\n",
        "\n",
        "    if check_win(board, current_player):\n",
        "      print_board(board)\n",
        "      print(f\"Player {current_player} wins!\")\n",
        "      break\n",
        "    elif is_board_full(board):\n",
        "      print_board(board)\n",
        "      print(\"It's a tie!\")\n",
        "      break\n",
        "\n",
        "    current_player = 'O' if current_player == 'X' else 'X'\n",
        "\n",
        "if __name__ == \"__main__\":\n",
        "  play_tic_tac_toe()"
      ]
    },
    {
      "cell_type": "markdown",
      "metadata": {
        "id": "FjS1V5c6ru5C"
      },
      "source": [
        "69.\tWrite a script that applies basic text analysis on a provided text file."
      ]
    },
    {
      "cell_type": "code",
      "execution_count": 100,
      "metadata": {
        "colab": {
          "base_uri": "https://localhost:8080/"
        },
        "id": "NILgue5-r35F",
        "outputId": "877176ed-8c57-4e71-86e9-b987708a6a7f"
      },
      "outputs": [
        {
          "name": "stdout",
          "output_type": "stream",
          "text": [
            "File not found: your_text_file.txt\n"
          ]
        }
      ],
      "source": [
        "import re\n",
        "\n",
        "def analyze_text(filename):\n",
        "\n",
        "\n",
        "  try:\n",
        "    with open(filename, \"r\") as file:\n",
        "      text = file.read()\n",
        "\n",
        "    words = re.findall(r\"\\b\\w+\\b\", text.lower())  # Find all words\n",
        "    word_count = len(words)\n",
        "    print(f\"Word count: {word_count}\")\n",
        "\n",
        "    unique_words = set(words)\n",
        "    unique_word_count = len(unique_words)\n",
        "    print(f\"Unique word count: {unique_word_count}\")\n",
        "\n",
        "    character_count = len(text.replace(\" \", \"\"))\n",
        "    print(f\"Character count (excluding whitespace): {character_count}\")\n",
        "\n",
        "    sentences = re.split(r\"[.!?]+\", text)\n",
        "    sentence_count = len(sentences) - 1  # Exclude the last empty string\n",
        "    print(f\"Sentence count: {sentence_count}\")\n",
        "\n",
        "    average_word_length = sum(len(word) for word in words) / word_count\n",
        "    print(f\"Average word length: {average_word_length:.2f}\")\n",
        "\n",
        "  except FileNotFoundError:\n",
        "    print(f\"File not found: {filename}\")\n",
        "\n",
        "filename = \"your_text_file.txt\"  # Replace with the actual filename\n",
        "analyze_text(filename)"
      ]
    },
    {
      "cell_type": "markdown",
      "metadata": {
        "id": "DH623_HJr-49"
      },
      "source": [
        "70.\tDevelop a simple task scheduler that runs functions at specified intervals."
      ]
    },
    {
      "cell_type": "code",
      "execution_count": 103,
      "metadata": {
        "colab": {
          "base_uri": "https://localhost:8080/"
        },
        "id": "T3q4vMKasL5V",
        "outputId": "cd7dd9dc-6f99-4124-cd84-1c6fb852ed84"
      },
      "outputs": [
        {
          "name": "stdout",
          "output_type": "stream",
          "text": [
            "Hello, world!\n",
            "Task executed at: Wed Dec  4 17:22:55 2024\n"
          ]
        }
      ],
      "source": [
        "import time\n",
        "import threading\n",
        "\n",
        "def schedule_task(func, interval):\n",
        "    def wrapper():\n",
        "        while True:\n",
        "            func()\n",
        "            time.sleep(interval)\n",
        "    t = threading.Thread(target=wrapper)\n",
        "    t.start()\n",
        "\n",
        "def print_hello():\n",
        "    print(\"Hello, world!\")\n",
        "\n",
        "schedule_task(print_hello, 5)  # Print \"Hello, world!\" every 5 seconds"
      ]
    },
    {
      "cell_type": "markdown",
      "metadata": {
        "id": "JcrKcTVJsls4"
      },
      "source": [
        "71.\tCreate a budgeting application that tracks expenses using classes."
      ]
    },
    {
      "cell_type": "code",
      "execution_count": 105,
      "metadata": {
        "colab": {
          "base_uri": "https://localhost:8080/"
        },
        "id": "CfeFp0rMsxVG",
        "outputId": "48a03e34-2ff5-4133-bfb5-fcff0d0f04d1"
      },
      "outputs": [
        {
          "name": "stdout",
          "output_type": "stream",
          "text": [
            "Total Expenses: 700\n",
            "Remaining Budget: 300\n"
          ]
        }
      ],
      "source": [
        "class Expense:\n",
        "    def __init__(self, category, amount, date):\n",
        "        self.category = category\n",
        "        self.amount = amount\n",
        "        self.date = date\n",
        "\n",
        "class Budget:\n",
        "    def __init__(self, monthly_budget):\n",
        "        self.monthly_budget = monthly_budget\n",
        "        self.expenses = []\n",
        "\n",
        "    def add_expense(self, expense):\n",
        "        self.expenses.append(expense)\n",
        "\n",
        "    def total_expenses(self):\n",
        "        total = 0\n",
        "        for expense in self.expenses:\n",
        "            total += expense.amount\n",
        "        return total\n",
        "\n",
        "    def remaining_budget(self):\n",
        "        return self.monthly_budget - self.total_expenses()\n",
        "\n",
        "budget = Budget(1000)\n",
        "expense1 = Expense(\"Groceries\", 200, \"2023-11-25\")\n",
        "expense2 = Expense(\"Rent\", 500, \"2023-12-01\")\n",
        "budget.add_expense(expense1)\n",
        "budget.add_expense(expense2)\n",
        "\n",
        "print(\"Total Expenses:\", budget.total_expenses())\n",
        "print(\"Remaining Budget:\", budget.remaining_budget())"
      ]
    },
    {
      "cell_type": "markdown",
      "metadata": {
        "id": "z4E3b-IjtH6w"
      },
      "source": [
        "72.\tWrite a program that analyzes and visualizes stock market data."
      ]
    },
    {
      "cell_type": "code",
      "execution_count": 106,
      "metadata": {
        "colab": {
          "base_uri": "https://localhost:8080/",
          "height": 1000
        },
        "id": "mkTQbn-6tWDB",
        "outputId": "d36fbc9c-278e-45a2-aa84-eeaa00d581b6"
      },
      "outputs": [
        {
          "name": "stdout",
          "output_type": "stream",
          "text": [
            "Hello, world!\n",
            "Hello, world!\n",
            "Task executed at: Wed Dec  4 17:26:40 2024\n"
          ]
        },
        {
          "name": "stderr",
          "output_type": "stream",
          "text": [
            "\r[*********************100%***********************]  1 of 1 completed\n"
          ]
        },
        {
          "data": {
            "image/png": "[encoded data removed]",
            "text/plain": [
              "<Figure size 1200x600 with 1 Axes>"
            ]
          },
          "metadata": {},
          "output_type": "display_data"
        },
        {
          "data": {
            "image/png": "[encoded data removed]",
            "text/plain": [
              "<Figure size 1200x600 with 1 Axes>"
            ]
          },
          "metadata": {},
          "output_type": "display_data"
        },
        {
          "name": "stdout",
          "output_type": "stream",
          "text": [
            "\n",
            "Basic Statistics for AAPL:\n",
            "Price    Adj Close       Close        High         Low        Open  \\\n",
            "Ticker        AAPL        AAPL        AAPL        AAPL        AAPL   \n",
            "count   250.000000  250.000000  250.000000  250.000000  250.000000   \n",
            "mean    171.281996  172.549000  173.857520  170.981880  172.256681   \n",
            "std      17.418789   17.331672   17.261055   17.535099   17.530359   \n",
            "min     123.718987  125.019997  127.769997  124.169998  126.010002   \n",
            "25%     160.670410  162.112499  162.387501  160.699997  161.555000   \n",
            "50%     174.389786  175.475006  177.025002  173.840004  175.244995   \n",
            "75%     186.265347  187.330002  188.095001  185.174995  186.805000   \n",
            "max     197.144180  198.110001  199.619995  197.000000  198.020004   \n",
            "\n",
            "Price         Volume Daily Return  \n",
            "Ticker          AAPL               \n",
            "count   2.500000e+02   249.000000  \n",
            "mean    5.921703e+07     0.001812  \n",
            "std     1.777392e+07     0.012566  \n",
            "min     2.404830e+07    -0.048020  \n",
            "25%     4.781208e+07    -0.006162  \n",
            "50%     5.507750e+07     0.001797  \n",
            "75%     6.574292e+07     0.008846  \n",
            "max     1.543573e+08     0.046927  \n"
          ]
        }
      ],
      "source": [
        "!pip install yfinance --quiet\n",
        "\n",
        "import yfinance as yf\n",
        "import matplotlib.pyplot as plt\n",
        "\n",
        "def analyze_stock(ticker, start_date, end_date):\n",
        "\n",
        "  try:\n",
        "    # Download stock data\n",
        "    data = yf.download(ticker, start=start_date, end=end_date)\n",
        "\n",
        "    # Calculate daily returns\n",
        "    data['Daily Return'] = data['Close'].pct_change()\n",
        "\n",
        "    # Plot closing prices\n",
        "    plt.figure(figsize=(12, 6))\n",
        "    plt.plot(data['Close'], label='Closing Price')\n",
        "    plt.title(f'{ticker} Stock Price')\n",
        "    plt.xlabel('Date')\n",
        "    plt.ylabel('Price')\n",
        "    plt.legend()\n",
        "    plt.show()\n",
        "\n",
        "    # Plot daily returns\n",
        "    plt.figure(figsize=(12, 6))\n",
        "    plt.plot(data['Daily Return'], label='Daily Return')\n",
        "    plt.title(f'{ticker} Daily Returns')\n",
        "    plt.xlabel('Date')\n",
        "    plt.ylabel('Return')\n",
        "    plt.legend()\n",
        "    plt.show()\n",
        "\n",
        "    # Calculate and print basic statistics\n",
        "    print(f\"\\nBasic Statistics for {ticker}:\")\n",
        "    print(data.describe())\n",
        "\n",
        "  except Exception as e:\n",
        "    print(f\"Error analyzing stock data: {e}\")\n",
        "\n",
        "# Example usage:\n",
        "ticker = \"AAPL\"\n",
        "start_date = \"2023-01-01\"\n",
        "end_date = \"2023-12-31\"\n",
        "\n",
        "analyze_stock(ticker, start_date, end_date)"
      ]
    },
    {
      "cell_type": "markdown",
      "metadata": {
        "id": "zGXHLFTCtdC9"
      },
      "source": [
        "73.\tDevelop a Python script that automates file organization based on file types."
      ]
    },
    {
      "cell_type": "code",
      "execution_count": 109,
      "metadata": {
        "colab": {
          "base_uri": "https://localhost:8080/"
        },
        "id": "gqmvt7rTtl2q",
        "outputId": "21d70dd7-0929-4924-d56f-9c722f35936f"
      },
      "outputs": [
        {
          "name": "stdout",
          "output_type": "stream",
          "text": [
            "<function organize_files at 0x7a3ac3450700>\n"
          ]
        }
      ],
      "source": [
        "import os\n",
        "import shutil\n",
        "\n",
        "def organize_files(directory):\n",
        "    file_types = {\n",
        "        'documents': ('.doc', '.docx', '.pdf', '.txt'),\n",
        "        'images': ('.jpg', '.jpeg', '.png', '.gif'),\n",
        "        'videos': ('.mp4', '.avi', '.mov'),\n",
        "        'music': ('.mp3', '.wav', '.flac'),\n",
        "        'archives': ('.zip', '.rar', '.7z'),\n",
        "        'others': ()\n",
        "    }\n",
        "\n",
        "    for root, dirs, files in os.walk(directory):\n",
        "        for file in files:\n",
        "            file_path = os.path.join(root, file)\n",
        "            file_extension = os.path.splitext(file)[1].lower()\n",
        "            found = False\n",
        "\n",
        "            for file_type, extensions in file_types.items():\n",
        "                if file_extension in extensions:\n",
        "                    file_type_dir = os.path.join(directory, file_type)\n",
        "                    if not os.path.exists(file_type_dir):\n",
        "                        os.makedirs(file_type_dir)\n",
        "                    shutil.move(file_path, file_type_dir)\n",
        "                    found = True\n",
        "                    break\n",
        "\n",
        "            if not found:\n",
        "                other_dir = os.path.join(directory, 'others')\n",
        "                if not os.path.exists(other_dir):\n",
        "                    os.makedirs(other_dir)\n",
        "                shutil.move(file_path, other_dir)\n",
        "\n",
        "directory_to_organize = \"path/to/your/directory\"\n",
        "organize_files(directory_to_organize)\n",
        "print(organize_files)"
      ]
    },
    {
      "cell_type": "markdown",
      "metadata": {
        "id": "hqNok1nSt_Ru"
      },
      "source": [
        "74.\tCreate a system for monitoring server performance metrics and notifying on anomalies."
      ]
    },
    {
      "cell_type": "code",
      "execution_count": null,
      "metadata": {
        "id": "CYFM-1YDuEM_"
      },
      "outputs": [],
      "source": [
        "!pip install psutil --quiet\n",
        "\n",
        "import psutil\n",
        "import time\n",
        "\n",
        "def monitor_server():\n",
        "    cpu_threshold = 80  # CPU usage threshold (%)\n",
        "    mem_threshold = 90  # Memory usage threshold (%)\n",
        "\n",
        "    while True:\n",
        "        cpu_percent = psutil.cpu_percent(interval=1)\n",
        "        mem_percent = psutil.virtual_memory().percent\n",
        "\n",
        "        if cpu_percent > cpu_threshold:\n",
        "            print(f\"CPU usage anomaly: {cpu_percent}%\")\n",
        "        if mem_percent > mem_threshold:\n",
        "            print(f\"Memory usage anomaly: {mem_percent}%\")\n",
        "\n",
        "        time.sleep(5)  # Check every 5 seconds\n",
        "\n",
        "if __name__ == \"__main__\":\n",
        "    monitor_server()"
      ]
    },
    {
      "cell_type": "markdown",
      "metadata": {
        "id": "qFHCnzjQujvG"
      },
      "source": [
        "\n",
        "75.\tBuild a simple e-commerce cart system using classes and functions."
      ]
    },
    {
      "cell_type": "code",
      "execution_count": 111,
      "metadata": {
        "colab": {
          "base_uri": "https://localhost:8080/"
        },
        "id": "lg-GTDmHufJc",
        "outputId": "16620d22-c5ed-482d-cf21-0622dd151332"
      },
      "outputs": [
        {
          "name": "stdout",
          "output_type": "stream",
          "text": [
            "Your Cart:\n",
            "Shirt - $25.99 - Quantity: 2\n",
            "Shoes - $59.99 - Quantity: 1\n",
            "Total: $111.97\n",
            "Your Cart:\n",
            "Shoes - $59.99 - Quantity: 1\n",
            "Total: $59.99\n",
            "Hello, world!\n",
            "Task executed at: Wed Dec  4 17:31:51 2024\n"
          ]
        }
      ],
      "source": [
        "class Product:\n",
        "    def __init__(self, name, price, quantity):\n",
        "        self.name = name\n",
        "        self.price = price\n",
        "        self.quantity = quantity\n",
        "\n",
        "    def __str__(self):\n",
        "        return f\"{self.name} - ${self.price:.2f} - Quantity: {self.quantity}\"\n",
        "\n",
        "class Cart:\n",
        "    def __init__(self):\n",
        "        self.items = []\n",
        "\n",
        "    def add_item(self, product):\n",
        "        self.items.append(product)\n",
        "\n",
        "    def remove_item(self, product_name):\n",
        "        for item in self.items:\n",
        "            if item.name == product_name:\n",
        "                self.items.remove(item)\n",
        "                return True  # Item removed successfully\n",
        "        return False  # Item not found\n",
        "\n",
        "    def calculate_total(self):\n",
        "        total = 0\n",
        "        for item in self.items:\n",
        "            total += item.price * item.quantity\n",
        "        return total\n",
        "\n",
        "    def display_cart(self):\n",
        "        if not self.items:\n",
        "            print(\"Your cart is empty.\")\n",
        "            return\n",
        "\n",
        "        print(\"Your Cart:\")\n",
        "        for item in self.items:\n",
        "            print(item)\n",
        "        print(f\"Total: ${self.calculate_total():.2f}\")\n",
        "\n",
        "# Example usage\n",
        "cart = Cart()\n",
        "\n",
        "product1 = Product(\"Shirt\", 25.99, 2)\n",
        "product2 = Product(\"Shoes\", 59.99, 1)\n",
        "\n",
        "cart.add_item(product1)\n",
        "cart.add_item(product2)\n",
        "\n",
        "cart.display_cart()\n",
        "\n",
        "cart.remove_item(\"Shirt\")  # Remove the shirt\n",
        "\n",
        "cart.display_cart()  # Display updated cart"
      ]
    },
    {
      "cell_type": "markdown",
      "metadata": {
        "id": "RjGtZgrZupIo"
      },
      "source": [
        "76.\tImplement a user authentication system with classes and file storage."
      ]
    },
    {
      "cell_type": "code",
      "execution_count": 112,
      "metadata": {
        "colab": {
          "base_uri": "https://localhost:8080/"
        },
        "id": "ecTQeofluxQa",
        "outputId": "16d5946a-a290-4f8f-b6b1-c01a3e678dc1"
      },
      "outputs": [
        {
          "name": "stdout",
          "output_type": "stream",
          "text": [
            "User registered successfully!\n",
            "Login successful!\n"
          ]
        }
      ],
      "source": [
        "import json\n",
        "\n",
        "class User:\n",
        "    def __init__(self, username, password):\n",
        "        self.username = username\n",
        "        self.password = password\n",
        "\n",
        "class AuthenticationSystem:\n",
        "    def __init__(self, users_file=\"users.json\"):\n",
        "        self.users_file = users_file\n",
        "        self.users = self.load_users()\n",
        "\n",
        "    def load_users(self):\n",
        "        try:\n",
        "            with open(self.users_file, \"r\") as f:\n",
        "                return json.load(f)\n",
        "        except FileNotFoundError:\n",
        "            return {}  # Empty dictionary if file not found\n",
        "\n",
        "    def save_users(self):\n",
        "        with open(self.users_file, \"w\") as f:\n",
        "            json.dump(self.users, f, indent=4)\n",
        "\n",
        "    def register(self, username, password):\n",
        "        if username in self.users:\n",
        "            return False  # Username already exists\n",
        "\n",
        "        self.users[username] = User(username, password).__dict__\n",
        "        self.save_users()\n",
        "        return True\n",
        "\n",
        "    def login(self, username, password):\n",
        "        user_data = self.users.get(username)\n",
        "        if user_data and user_data[\"password\"] == password:\n",
        "            return True\n",
        "        return False\n",
        "\n",
        "# Example usage\n",
        "auth_system = AuthenticationSystem()\n",
        "\n",
        "# Register a new user\n",
        "if auth_system.register(\"piyush\", \"password123\"):\n",
        "    print(\"User registered successfully!\")\n",
        "else:\n",
        "    print(\"Username already exists.\")\n",
        "\n",
        "# Login with the registered user\n",
        "if auth_system.login(\"piyush\", \"password123\"):\n",
        "    print(\"Login successful!\")\n",
        "else:\n",
        "    print(\"Invalid username or password.\")"
      ]
    },
    {
      "cell_type": "markdown",
      "metadata": {
        "id": "lscr1mdSvA6E"
      },
      "source": [
        "77.\tDesign a quiz application that evaluates user knowledge using functions and data structures."
      ]
    },
    {
      "cell_type": "code",
      "execution_count": 115,
      "metadata": {
        "colab": {
          "base_uri": "https://localhost:8080/"
        },
        "id": "J7hk5I8LvH8H",
        "outputId": "1ecfdb7c-b938-43de-ee90-e86686644495"
      },
      "outputs": [
        {
          "name": "stdout",
          "output_type": "stream",
          "text": [
            "What is the highest mountain in the world?\n",
            "1. K2\n",
            "2. Kangchenjunga\n",
            "3. Mount Everest\n",
            "4. Lhotse\n",
            "Hello, world!\n",
            "Hello, world!\n",
            "Task executed at: Wed Dec  4 17:35:41 2024\n",
            "Hello, world!\n",
            "Your answer (1-4): 3\n",
            "Hello, world!\n",
            "Task executed at: Wed Dec  4 17:35:46 2024\n",
            "Correct!\n",
            "\n",
            "What is the capital of France?\n",
            "1. Berlin\n",
            "2. Paris\n",
            "3. Madrid\n",
            "4. Rome\n",
            "Your answer (1-4): 2\n",
            "Hello, world!\n",
            "Hello, world!\n",
            "Correct!\n",
            "\n",
            "Quiz completed! Your score: 2/2\n"
          ]
        }
      ],
      "source": [
        "import random\n",
        "\n",
        "class Quiz:\n",
        "    def __init__(self, questions):\n",
        "        self.questions = questions\n",
        "        self.score = 0\n",
        "        self.current_question = 0\n",
        "\n",
        "    def ask_question(self):\n",
        "        question_data = self.questions[self.current_question]\n",
        "        print(question_data[\"question\"])\n",
        "        for i, option in enumerate(question_data[\"options\"]):\n",
        "            print(f\"{i + 1}. {option}\")\n",
        "\n",
        "        answer = input(\"Your answer (1-4): \")\n",
        "        self.check_answer(answer, question_data[\"answer\"])\n",
        "\n",
        "    def check_answer(self, user_answer, correct_answer):\n",
        "        if user_answer == str(correct_answer):\n",
        "            print(\"Correct!\\n\")\n",
        "            self.score += 1\n",
        "        else:\n",
        "            print(f\"Incorrect. The correct answer was {correct_answer}.\\n\")\n",
        "\n",
        "        self.current_question += 1\n",
        "\n",
        "    def run_quiz(self):\n",
        "        random.shuffle(self.questions)  # Shuffle questions for randomness\n",
        "        while self.current_question < len(self.questions):\n",
        "            self.ask_question()\n",
        "\n",
        "        print(f\"Quiz completed! Your score: {self.score}/{len(self.questions)}\")\n",
        "\n",
        "# Sample quiz questions (data structure: list of dictionaries)\n",
        "questions = [\n",
        "    {\n",
        "        \"question\": \"What is the capital of France?\",\n",
        "        \"options\": [\"Berlin\", \"Paris\", \"Madrid\", \"Rome\"],\n",
        "        \"answer\": 2,\n",
        "    },\n",
        "    {\n",
        "        \"question\": \"What is the highest mountain in the world?\",\n",
        "        \"options\": [\"K2\", \"Kangchenjunga\", \"Mount Everest\", \"Lhotse\"],\n",
        "        \"answer\": 3,\n",
        "    },\n",
        "    # Add more questions here...\n",
        "]\n",
        "\n",
        "# Create and run the quiz\n",
        "quiz = Quiz(questions)\n",
        "quiz.run_quiz()"
      ]
    },
    {
      "cell_type": "markdown",
      "metadata": {
        "id": "MCQF1IurviHs"
      },
      "source": [
        "78.\tCreate a simulation of a simple traffic light system."
      ]
    },
    {
      "cell_type": "code",
      "execution_count": 117,
      "metadata": {
        "colab": {
          "base_uri": "https://localhost:8080/",
          "height": 1000
        },
        "id": "oKhWzCMbvshY",
        "outputId": "1caff6ff-f739-4d91-a298-e6c82ca62788"
      },
      "outputs": [
        {
          "name": "stdout",
          "output_type": "stream",
          "text": [
            "Traffic Light: Green - Go!\n",
            "Hello, world!\n",
            "Hello, world!\n",
            "Task executed at: Wed Dec  4 17:37:26 2024\n",
            "Traffic Light: Yellow - Slow down!\n",
            "Hello, world!\n",
            "Traffic Light: Red - Stop!\n",
            "Hello, world!\n",
            "Task executed at: Wed Dec  4 17:37:31 2024\n",
            "Hello, world!\n",
            "Traffic Light: Green - Go!\n",
            "Hello, world!\n",
            "Task executed at: Wed Dec  4 17:37:36 2024\n",
            "Hello, world!\n",
            "Traffic Light: Yellow - Slow down!\n",
            "Hello, world!\n",
            "Task executed at: Wed Dec  4 17:37:41 2024\n",
            "Traffic Light: Red - Stop!\n",
            "Hello, world!\n",
            "Hello, world!\n",
            "Task executed at: Wed Dec  4 17:37:46 2024\n",
            "Traffic Light: Green - Go!\n",
            "Hello, world!\n",
            "Hello, world!\n",
            "Task executed at: Wed Dec  4 17:37:51 2024\n",
            "Traffic Light: Yellow - Slow down!\n",
            "Traffic Light: Red - Stop!\n",
            "Hello, world!\n",
            "Hello, world!\n",
            "Task executed at: Wed Dec  4 17:37:56 2024\n",
            "Traffic Light: Green - Go!\n",
            "Hello, world!\n",
            "Hello, world!\n",
            "Task executed at: Wed Dec  4 17:38:01 2024\n",
            "Traffic Light: Yellow - Slow down!\n",
            "Hello, world!\n",
            "Hello, world!\n",
            "Task executed at: Wed Dec  4 17:38:06 2024\n",
            "Traffic Light: Red - Stop!\n",
            "Hello, world!\n",
            "Hello, world!\n",
            "Task executed at: Wed Dec  4 17:38:11 2024\n",
            "Traffic Light: Green - Go!\n",
            "Hello, world!\n",
            "Hello, world!\n",
            "Task executed at: Wed Dec  4 17:38:16 2024\n"
          ]
        },
        {
          "ename": "KeyboardInterrupt",
          "evalue": "",
          "output_type": "error",
          "traceback": [
            "\u001b[0;31m---------------------------------------------------------------------------\u001b[0m",
            "\u001b[0;31mKeyboardInterrupt\u001b[0m                         Traceback (most recent call last)",
            "\u001b[0;32m<ipython-input-117-feb145ecd86e>\u001b[0m in \u001b[0;36m<cell line: 27>\u001b[0;34m()\u001b[0m\n\u001b[1;32m     26\u001b[0m \u001b[0;34m\u001b[0m\u001b[0m\n\u001b[1;32m     27\u001b[0m \u001b[0;32mif\u001b[0m \u001b[0m__name__\u001b[0m \u001b[0;34m==\u001b[0m \u001b[0;34m\"__main__\"\u001b[0m\u001b[0;34m:\u001b[0m\u001b[0;34m\u001b[0m\u001b[0;34m\u001b[0m\u001b[0m\n\u001b[0;32m---> 28\u001b[0;31m     \u001b[0mrun_simulation\u001b[0m\u001b[0;34m(\u001b[0m\u001b[0;34m)\u001b[0m\u001b[0;34m\u001b[0m\u001b[0;34m\u001b[0m\u001b[0m\n\u001b[0m",
            "\u001b[0;32m<ipython-input-117-feb145ecd86e>\u001b[0m in \u001b[0;36mrun_simulation\u001b[0;34m()\u001b[0m\n\u001b[1;32m     23\u001b[0m \u001b[0;34m\u001b[0m\u001b[0m\n\u001b[1;32m     24\u001b[0m     \u001b[0;32mwhile\u001b[0m \u001b[0;32mTrue\u001b[0m\u001b[0;34m:\u001b[0m\u001b[0;34m\u001b[0m\u001b[0;34m\u001b[0m\u001b[0m\n\u001b[0;32m---> 25\u001b[0;31m         \u001b[0mtraffic_light\u001b[0m\u001b[0;34m.\u001b[0m\u001b[0mchange_state\u001b[0m\u001b[0;34m(\u001b[0m\u001b[0;34m)\u001b[0m\u001b[0;34m\u001b[0m\u001b[0;34m\u001b[0m\u001b[0m\n\u001b[0m\u001b[1;32m     26\u001b[0m \u001b[0;34m\u001b[0m\u001b[0m\n\u001b[1;32m     27\u001b[0m \u001b[0;32mif\u001b[0m \u001b[0m__name__\u001b[0m \u001b[0;34m==\u001b[0m \u001b[0;34m\"__main__\"\u001b[0m\u001b[0;34m:\u001b[0m\u001b[0;34m\u001b[0m\u001b[0;34m\u001b[0m\u001b[0m\n",
            "\u001b[0;32m<ipython-input-117-feb145ecd86e>\u001b[0m in \u001b[0;36mchange_state\u001b[0;34m(self)\u001b[0m\n\u001b[1;32m      9\u001b[0m             \u001b[0mself\u001b[0m\u001b[0;34m.\u001b[0m\u001b[0mstate\u001b[0m \u001b[0;34m=\u001b[0m \u001b[0;34m\"green\"\u001b[0m\u001b[0;34m\u001b[0m\u001b[0;34m\u001b[0m\u001b[0m\n\u001b[1;32m     10\u001b[0m             \u001b[0mprint\u001b[0m\u001b[0;34m(\u001b[0m\u001b[0;34m\"Traffic Light: Green - Go!\"\u001b[0m\u001b[0;34m)\u001b[0m\u001b[0;34m\u001b[0m\u001b[0;34m\u001b[0m\u001b[0m\n\u001b[0;32m---> 11\u001b[0;31m             \u001b[0mtime\u001b[0m\u001b[0;34m.\u001b[0m\u001b[0msleep\u001b[0m\u001b[0;34m(\u001b[0m\u001b[0;36m5\u001b[0m\u001b[0;34m)\u001b[0m  \u001b[0;31m# Green for 5 seconds\u001b[0m\u001b[0;34m\u001b[0m\u001b[0;34m\u001b[0m\u001b[0m\n\u001b[0m\u001b[1;32m     12\u001b[0m         \u001b[0;32melif\u001b[0m \u001b[0mself\u001b[0m\u001b[0;34m.\u001b[0m\u001b[0mstate\u001b[0m \u001b[0;34m==\u001b[0m \u001b[0;34m\"green\"\u001b[0m\u001b[0;34m:\u001b[0m\u001b[0;34m\u001b[0m\u001b[0;34m\u001b[0m\u001b[0m\n\u001b[1;32m     13\u001b[0m             \u001b[0mself\u001b[0m\u001b[0;34m.\u001b[0m\u001b[0mstate\u001b[0m \u001b[0;34m=\u001b[0m \u001b[0;34m\"yellow\"\u001b[0m\u001b[0;34m\u001b[0m\u001b[0;34m\u001b[0m\u001b[0m\n",
            "\u001b[0;31mKeyboardInterrupt\u001b[0m: "
          ]
        }
      ],
      "source": [
        "import time\n",
        "\n",
        "class TrafficLight:\n",
        "    def __init__(self):\n",
        "        self.state = \"red\"  # Initial state\n",
        "\n",
        "    def change_state(self):\n",
        "        if self.state == \"red\":\n",
        "            self.state = \"green\"\n",
        "            print(\"Traffic Light: Green - Go!\")\n",
        "            time.sleep(5)  # Green for 5 seconds\n",
        "        elif self.state == \"green\":\n",
        "            self.state = \"yellow\"\n",
        "            print(\"Traffic Light: Yellow - Slow down!\")\n",
        "            time.sleep(2)  # Yellow for 2 seconds\n",
        "        elif self.state == \"yellow\":\n",
        "            self.state = \"red\"\n",
        "            print(\"Traffic Light: Red - Stop!\")\n",
        "            time.sleep(5)  # Red for 5 seconds\n",
        "\n",
        "def run_simulation():\n",
        "    traffic_light = TrafficLight()\n",
        "\n",
        "    while True:\n",
        "        traffic_light.change_state()\n",
        "\n",
        "if __name__ == \"__main__\":\n",
        "    run_simulation()"
      ]
    },
    {
      "cell_type": "markdown",
      "metadata": {
        "id": "QujHUCJ7wFXw"
      },
      "source": [
        "79.\tDevelop a content management system using object-oriented principles and file handling."
      ]
    },
    {
      "cell_type": "code",
      "execution_count": 126,
      "metadata": {
        "colab": {
          "base_uri": "https://localhost:8080/"
        },
        "id": "hv_m5fIHw_uD",
        "outputId": "059dbe78-c3f4-4911-9371-76e813fa6b4b"
      },
      "outputs": [
        {
          "name": "stdout",
          "output_type": "stream",
          "text": [
            "Hello, world!\n",
            "Task executed at: Wed Dec  4 17:43:41 2024\n"
          ]
        }
      ],
      "source": [
        "import json\n",
        "\n",
        "class Article:\n",
        "    def __init__(self, title, content, author):\n",
        "        self.title = title\n",
        "        self.content = content\n",
        "        self.author = author\n",
        "\n",
        "class CMS:\n",
        "    def __init__(self, filename):\n",
        "        self.filename = filename\n",
        "        self.load_articles()\n",
        "\n",
        "    def load_articles(self):\n",
        "        try:\n",
        "            with open(self.filename, 'r') as f:\n",
        "                self.articles = json.load(f)\n",
        "        except FileNotFoundError:\n",
        "            self.articles = []\n",
        "\n",
        "    def save_articles(self):\n",
        "        with open(self.filename, 'w') as f:\n",
        "            json.dump(self.articles, f, indent=4)\n",
        "\n",
        "    def add_article(self, article):\n",
        "        self.articles.append(article.__dict__)\n",
        "        self.save_articles()\n",
        "\n",
        "    def remove_article(self, title):\n",
        "        for i, article in enumerate(self.articles):\n",
        "            if article['title'] == title:\n",
        "                del self.articles[i]\n",
        "                self.save_articles()\n",
        "                return\n",
        "        print(\"Article not found\")\n",
        "\n",
        "    def list_articles(self):\n",
        "        if not self.articles:\n",
        "            print(\"No articles found.\")\n",
        "            return\n",
        "\n",
        "        for article in self.articles:\n",
        "            print(f\"Title: {article['title']}\")\n",
        "            print(f\"Author: {article['author']}\")\n",
        "            print(\"-\" * 20)  # Separator"
      ]
    }
  ],
  "metadata": {
    "colab": {
      "provenance": []
    },
    "kernelspec": {
      "display_name": "Python 3",
      "name": "python3"
    },
    "language_info": {
      "name": "python"
    }
  },
  "nbformat": 4,
  "nbformat_minor": 0
}
